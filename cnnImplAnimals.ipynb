{
  "nbformat": 4,
  "nbformat_minor": 0,
  "metadata": {
    "colab": {
      "name": "cnnImplAnimals.ipynb",
      "provenance": [],
      "collapsed_sections": [],
      "machine_shape": "hm",
      "authorship_tag": "ABX9TyOMXXPRlrjpdNpzEEkECBtP",
      "include_colab_link": true
    },
    "kernelspec": {
      "name": "python3",
      "display_name": "Python 3"
    },
    "language_info": {
      "name": "python"
    },
    "accelerator": "GPU",
    "gpuClass": "standard"
  },
  "cells": [
    {
      "cell_type": "markdown",
      "metadata": {
        "id": "view-in-github",
        "colab_type": "text"
      },
      "source": [
        "<a href=\"https://colab.research.google.com/github/Nakdimon/animalClassificationCNN/blob/main/cnnImplAnimals.ipynb\" target=\"_parent\"><img src=\"https://colab.research.google.com/assets/colab-badge.svg\" alt=\"Open In Colab\"/></a>"
      ]
    },
    {
      "cell_type": "code",
      "execution_count": 16,
      "metadata": {
        "id": "dtVsiy1_uzr3"
      },
      "outputs": [],
      "source": [
        "import tensorflow as tf\n",
        "import pandas as pd\n",
        "import numpy as np\n",
        "from sklearn.utils import shuffle\n",
        "from sklearn.model_selection import train_test_split\n",
        "from tensorflow.keras.utils import to_categorical\n",
        "from tensorflow.keras.models import Sequential\n",
        "from tensorflow.keras.layers import Dense, Dropout, Activation, Flatten, Conv2D, MaxPooling2D, InputLayer, BatchNormalization\n",
        "from keras_preprocessing.image import ImageDataGenerator\n",
        "from skimage.io import imread_collection\n",
        "from skimage import io, color\n",
        "from skimage.transform import resize\n",
        "from matplotlib import pyplot as plt"
      ]
    },
    {
      "cell_type": "code",
      "source": [
        "# Connecting to google drive\n",
        "from google.colab import drive\n",
        "drive.mount('/content/drive')"
      ],
      "metadata": {
        "colab": {
          "base_uri": "https://localhost:8080/"
        },
        "id": "dBn5g7SbT9jV",
        "outputId": "a6a7ed4c-7931-42d6-b84d-e9f20702e600"
      },
      "execution_count": 2,
      "outputs": [
        {
          "output_type": "stream",
          "name": "stdout",
          "text": [
            "Mounted at /content/drive\n"
          ]
        }
      ]
    },
    {
      "cell_type": "code",
      "source": [
        "# Collecting Images\n",
        "zebraImages = imread_collection('/content/drive/MyDrive/dataset1/zebra/*.*')\n",
        "buffaloImages = imread_collection('/content/drive/MyDrive/dataset1/buffalo/*.*')\n",
        "elephantImages = imread_collection('/content/drive/MyDrive/dataset1/elephant/*.*')\n",
        "rhinoImages = imread_collection('/content/drive/MyDrive/dataset1/rhino/*.*')"
      ],
      "metadata": {
        "id": "NX5x8tC1VzxM"
      },
      "execution_count": 15,
      "outputs": []
    },
    {
      "cell_type": "code",
      "source": [
        "# Implementing Resizer\n",
        "def collectionResize(collection):\n",
        "  resized = []\n",
        "  for image in collection:\n",
        "    resized.append(resize(image, (32, 32)))\n",
        "  \n",
        "  return resized"
      ],
      "metadata": {
        "id": "GiUqD0qJY3w4"
      },
      "execution_count": 37,
      "outputs": []
    },
    {
      "cell_type": "code",
      "source": [
        "#resizing images to 32x32\n",
        "rZebraImages = collectionResize(zebraImages)\n",
        "rBuffaloImages = collectionResize(buffaloImages)\n",
        "rElephantImages = collectionResize(elephantImages)\n",
        "rRhinoImages = collectionResize(rhinoImages)"
      ],
      "metadata": {
        "id": "PN7XSWvNasZM"
      },
      "execution_count": 38,
      "outputs": []
    },
    {
      "cell_type": "code",
      "source": [
        "io.imshow(rRhinoImages[7])\n",
        "plt.show()"
      ],
      "metadata": {
        "colab": {
          "base_uri": "https://localhost:8080/",
          "height": 297
        },
        "id": "-VbI7K2FWizv",
        "outputId": "bf353c0d-24ba-4be4-d662-51283cfee20c"
      },
      "execution_count": 39,
      "outputs": [
        {
          "output_type": "display_data",
          "data": {
            "text/plain": [
              "<Figure size 432x288 with 1 Axes>"
            ],
            "image/png": "[encoded data removed]"
          },
          "metadata": {
            "needs_background": "light"
          }
        }
      ]
    },
    {
      "cell_type": "code",
      "source": [
        "# Defining class labels\n",
        "ZEBRA_LABEL = 0\n",
        "BUFFALO_LABEL = 1\n",
        "ELEPHANT_LABEL = 2\n",
        "RHINO_LABEL = 3"
      ],
      "metadata": {
        "id": "V5Tku-M2egwH"
      },
      "execution_count": 40,
      "outputs": []
    },
    {
      "cell_type": "code",
      "source": [
        "# Converting to nparray\n",
        "rZebraImages = np.array(rZebraImages)\n",
        "rBuffaloImages = np.array(rBuffaloImages)\n",
        "rElephantImages = np.array(rElephantImages)\n",
        "rRhinoImages = np.array(rRhinoImages)"
      ],
      "metadata": {
        "id": "yd_MEqY8fASB"
      },
      "execution_count": 41,
      "outputs": []
    },
    {
      "cell_type": "code",
      "source": [
        "X = np.concatenate((rZebraImages, rBuffaloImages, rElephantImages, rRhinoImages))\n",
        "X.shape"
      ],
      "metadata": {
        "id": "A-DvQHKsfAQN",
        "colab": {
          "base_uri": "https://localhost:8080/"
        },
        "outputId": "50dc59a7-09a6-4373-c249-1ce64e21ba8c"
      },
      "execution_count": 42,
      "outputs": [
        {
          "output_type": "execute_result",
          "data": {
            "text/plain": [
              "(1504, 32, 32, 3)"
            ]
          },
          "metadata": {},
          "execution_count": 42
        }
      ]
    },
    {
      "cell_type": "code",
      "source": [
        "X = X / 255"
      ],
      "metadata": {
        "id": "9fDO5k0BvEZK"
      },
      "execution_count": 166,
      "outputs": []
    },
    {
      "cell_type": "code",
      "source": [
        "y = (np.concatenate((np.full((376, 1), 0),np.full((376, 1), 1), np.full((376, 1), 2), np.full((376, 1), 3)))).flatten()\n",
        "y.shape"
      ],
      "metadata": {
        "id": "_WGZANe5jXu7",
        "colab": {
          "base_uri": "https://localhost:8080/"
        },
        "outputId": "f332e54a-3922-44c2-cbde-a31c53ead1ee"
      },
      "execution_count": 43,
      "outputs": [
        {
          "output_type": "execute_result",
          "data": {
            "text/plain": [
              "(1504,)"
            ]
          },
          "metadata": {},
          "execution_count": 43
        }
      ]
    },
    {
      "cell_type": "code",
      "source": [
        "x_train,x_test,y_train,y_test = train_test_split(X,y,test_size=0.15,random_state=0, stratify=y)\n",
        "x_train,x_val,y_train,y_val = train_test_split(x_train,y_train,test_size=0.1,random_state=0)"
      ],
      "metadata": {
        "id": "l0ASy1watqcj"
      },
      "execution_count": 44,
      "outputs": []
    },
    {
      "cell_type": "code",
      "source": [
        "x_train.shape"
      ],
      "metadata": {
        "colab": {
          "base_uri": "https://localhost:8080/"
        },
        "id": "rW457cGmkELI",
        "outputId": "cb23455c-1634-409e-c23e-43f95600012e"
      },
      "execution_count": 45,
      "outputs": [
        {
          "output_type": "execute_result",
          "data": {
            "text/plain": [
              "(1150, 32, 32, 3)"
            ]
          },
          "metadata": {},
          "execution_count": 45
        }
      ]
    },
    {
      "cell_type": "code",
      "source": [
        "print(y_train)"
      ],
      "metadata": {
        "colab": {
          "base_uri": "https://localhost:8080/"
        },
        "id": "Lgd0-MKDd4Za",
        "outputId": "88f784d4-0540-4c74-92c0-ec5e03d5c986"
      },
      "execution_count": 46,
      "outputs": [
        {
          "output_type": "stream",
          "name": "stdout",
          "text": [
            "[1 2 3 ... 0 0 0]\n"
          ]
        }
      ]
    },
    {
      "cell_type": "code",
      "source": [
        "val = np.random.randint(0, len(X), 12)\n",
        "r = 1\n",
        "CATEGORIES = ['zebra', 'buffalo', 'elephant', 'rhino']\n",
        "plt.figure(figsize=(25,20))\n",
        "for value in val:\n",
        "    plt.subplot(3,4,r)\n",
        "    plt.subplots_adjust(hspace = 0.5, wspace = 0.5)\n",
        "    plt.xticks([]) , plt.yticks([])\n",
        "    plt.title(CATEGORIES[y[value]])\n",
        "    r += 1\n",
        "    plt.imshow(X[value])\n",
        "plt.show()"
      ],
      "metadata": {
        "colab": {
          "base_uri": "https://localhost:8080/",
          "height": 886
        },
        "id": "NZuT-NBhd_kt",
        "outputId": "9de46639-3384-4495-d0cc-517fc6a1799b"
      },
      "execution_count": 47,
      "outputs": [
        {
          "output_type": "display_data",
          "data": {
            "text/plain": [
              "<Figure size 1800x1440 with 12 Axes>"
            ],
            "image/png": "[encoded data removed]"
          },
          "metadata": {}
        }
      ]
    },
    {
      "cell_type": "code",
      "source": [
        "y_train = to_categorical(y_train, 4)\n",
        "y_val = to_categorical(y_val, 4)\n",
        "y_train.shape"
      ],
      "metadata": {
        "id": "Z8z4drrCaCx5",
        "colab": {
          "base_uri": "https://localhost:8080/"
        },
        "outputId": "56ac6c36-9f6e-4532-968d-be9b7aa8ab04"
      },
      "execution_count": 48,
      "outputs": [
        {
          "output_type": "execute_result",
          "data": {
            "text/plain": [
              "(1150, 4)"
            ]
          },
          "metadata": {},
          "execution_count": 48
        }
      ]
    },
    {
      "cell_type": "code",
      "source": [
        "#My model\n",
        "model = Sequential()\n",
        "model.add(Conv2D(32, (3,3), strides=(1,1), padding='same', activation='relu', input_shape=x_train.shape[1:]))\n",
        "model.add(MaxPooling2D(pool_size=(2, 2)))\n",
        "\n",
        "model.add(Conv2D(32, (3,3), strides=(1,1), padding='same', activation='relu'))\n",
        "model.add(MaxPooling2D(pool_size=(2, 2)))\n",
        "\n",
        "model.add(Dropout(0.5))\n",
        "\n",
        "model.add(Flatten())\n",
        "model.add(Dense(units=20, activation='relu'))\n",
        "\n",
        "model.add(Dropout(0.5))\n",
        "\n",
        "model.add(Dense(units=4, activation='softmax'))\n"
      ],
      "metadata": {
        "id": "NwLR8Cf5xo2w"
      },
      "execution_count": 95,
      "outputs": []
    },
    {
      "cell_type": "code",
      "source": [
        "model = Sequential()\n",
        "\n",
        "model.add(Conv2D(128,3,padding='same', input_shape=x_train.shape[1:], activation='relu'))\n",
        "model.add(MaxPooling2D((4,4)))\n",
        "\n",
        "model.add(Conv2D(64,3,padding='same', activation='relu'))\n",
        "model.add(MaxPooling2D((4,4)))\n",
        "\n",
        "model.add(Conv2D(32,3,padding='same', activation='relu'))\n",
        "model.add(MaxPooling2D((4,4)))\n",
        "\n",
        "model.add(Flatten())\n",
        "model.add(BatchNormalization())\n",
        "\n",
        "model.add(Dense(128, activation='relu'))\n",
        "model.add(Dense(64, activation='relu'))\n",
        "\n",
        "model.add(Dropout(0.5))\n",
        "\n",
        "model.add(Dense(32, activation='relu'))\n",
        "model.add(Dropout(0.5))\n",
        "\n",
        "model.add(Dense(4))\n",
        "\n",
        "model.add(Dense(4, activation='softmax'))"
      ],
      "metadata": {
        "colab": {
          "base_uri": "https://localhost:8080/",
          "height": 484
        },
        "id": "QUvxLQHJxHGB",
        "outputId": "3e8f804a-dfb5-4371-9507-145555739144"
      },
      "execution_count": 89,
      "outputs": [
        {
          "output_type": "error",
          "ename": "ValueError",
          "evalue": "ignored",
          "traceback": [
            "\u001b[0;31m---------------------------------------------------------------------------\u001b[0m",
            "\u001b[0;31mValueError\u001b[0m                                Traceback (most recent call last)",
            "\u001b[0;32m<ipython-input-89-a1b6ba30005a>\u001b[0m in \u001b[0;36m<module>\u001b[0;34m()\u001b[0m\n\u001b[1;32m      8\u001b[0m \u001b[0;34m\u001b[0m\u001b[0m\n\u001b[1;32m      9\u001b[0m \u001b[0mmodel\u001b[0m\u001b[0;34m.\u001b[0m\u001b[0madd\u001b[0m\u001b[0;34m(\u001b[0m\u001b[0mConv2D\u001b[0m\u001b[0;34m(\u001b[0m\u001b[0;36m32\u001b[0m\u001b[0;34m,\u001b[0m\u001b[0;36m3\u001b[0m\u001b[0;34m,\u001b[0m\u001b[0mpadding\u001b[0m\u001b[0;34m=\u001b[0m\u001b[0;34m'same'\u001b[0m\u001b[0;34m,\u001b[0m \u001b[0mactivation\u001b[0m\u001b[0;34m=\u001b[0m\u001b[0;34m'relu'\u001b[0m\u001b[0;34m)\u001b[0m\u001b[0;34m)\u001b[0m\u001b[0;34m\u001b[0m\u001b[0;34m\u001b[0m\u001b[0m\n\u001b[0;32m---> 10\u001b[0;31m \u001b[0mmodel\u001b[0m\u001b[0;34m.\u001b[0m\u001b[0madd\u001b[0m\u001b[0;34m(\u001b[0m\u001b[0mMaxPooling2D\u001b[0m\u001b[0;34m(\u001b[0m\u001b[0;34m(\u001b[0m\u001b[0;36m4\u001b[0m\u001b[0;34m,\u001b[0m\u001b[0;36m4\u001b[0m\u001b[0;34m)\u001b[0m\u001b[0;34m)\u001b[0m\u001b[0;34m)\u001b[0m\u001b[0;34m\u001b[0m\u001b[0;34m\u001b[0m\u001b[0m\n\u001b[0m\u001b[1;32m     11\u001b[0m \u001b[0;34m\u001b[0m\u001b[0m\n\u001b[1;32m     12\u001b[0m \u001b[0mmodel\u001b[0m\u001b[0;34m.\u001b[0m\u001b[0madd\u001b[0m\u001b[0;34m(\u001b[0m\u001b[0mFlatten\u001b[0m\u001b[0;34m(\u001b[0m\u001b[0;34m)\u001b[0m\u001b[0;34m)\u001b[0m\u001b[0;34m\u001b[0m\u001b[0;34m\u001b[0m\u001b[0m\n",
            "\u001b[0;32m/usr/local/lib/python3.7/dist-packages/tensorflow/python/training/tracking/base.py\u001b[0m in \u001b[0;36m_method_wrapper\u001b[0;34m(self, *args, **kwargs)\u001b[0m\n\u001b[1;32m    627\u001b[0m     \u001b[0mself\u001b[0m\u001b[0;34m.\u001b[0m\u001b[0m_self_setattr_tracking\u001b[0m \u001b[0;34m=\u001b[0m \u001b[0;32mFalse\u001b[0m  \u001b[0;31m# pylint: disable=protected-access\u001b[0m\u001b[0;34m\u001b[0m\u001b[0;34m\u001b[0m\u001b[0m\n\u001b[1;32m    628\u001b[0m     \u001b[0;32mtry\u001b[0m\u001b[0;34m:\u001b[0m\u001b[0;34m\u001b[0m\u001b[0;34m\u001b[0m\u001b[0m\n\u001b[0;32m--> 629\u001b[0;31m       \u001b[0mresult\u001b[0m \u001b[0;34m=\u001b[0m \u001b[0mmethod\u001b[0m\u001b[0;34m(\u001b[0m\u001b[0mself\u001b[0m\u001b[0;34m,\u001b[0m \u001b[0;34m*\u001b[0m\u001b[0margs\u001b[0m\u001b[0;34m,\u001b[0m \u001b[0;34m**\u001b[0m\u001b[0mkwargs\u001b[0m\u001b[0;34m)\u001b[0m\u001b[0;34m\u001b[0m\u001b[0;34m\u001b[0m\u001b[0m\n\u001b[0m\u001b[1;32m    630\u001b[0m     \u001b[0;32mfinally\u001b[0m\u001b[0;34m:\u001b[0m\u001b[0;34m\u001b[0m\u001b[0;34m\u001b[0m\u001b[0m\n\u001b[1;32m    631\u001b[0m       \u001b[0mself\u001b[0m\u001b[0;34m.\u001b[0m\u001b[0m_self_setattr_tracking\u001b[0m \u001b[0;34m=\u001b[0m \u001b[0mprevious_value\u001b[0m  \u001b[0;31m# pylint: disable=protected-access\u001b[0m\u001b[0;34m\u001b[0m\u001b[0;34m\u001b[0m\u001b[0m\n",
            "\u001b[0;32m/usr/local/lib/python3.7/dist-packages/keras/utils/traceback_utils.py\u001b[0m in \u001b[0;36merror_handler\u001b[0;34m(*args, **kwargs)\u001b[0m\n\u001b[1;32m     65\u001b[0m     \u001b[0;32mexcept\u001b[0m \u001b[0mException\u001b[0m \u001b[0;32mas\u001b[0m \u001b[0me\u001b[0m\u001b[0;34m:\u001b[0m  \u001b[0;31m# pylint: disable=broad-except\u001b[0m\u001b[0;34m\u001b[0m\u001b[0;34m\u001b[0m\u001b[0m\n\u001b[1;32m     66\u001b[0m       \u001b[0mfiltered_tb\u001b[0m \u001b[0;34m=\u001b[0m \u001b[0m_process_traceback_frames\u001b[0m\u001b[0;34m(\u001b[0m\u001b[0me\u001b[0m\u001b[0;34m.\u001b[0m\u001b[0m__traceback__\u001b[0m\u001b[0;34m)\u001b[0m\u001b[0;34m\u001b[0m\u001b[0;34m\u001b[0m\u001b[0m\n\u001b[0;32m---> 67\u001b[0;31m       \u001b[0;32mraise\u001b[0m \u001b[0me\u001b[0m\u001b[0;34m.\u001b[0m\u001b[0mwith_traceback\u001b[0m\u001b[0;34m(\u001b[0m\u001b[0mfiltered_tb\u001b[0m\u001b[0;34m)\u001b[0m \u001b[0;32mfrom\u001b[0m \u001b[0;32mNone\u001b[0m\u001b[0;34m\u001b[0m\u001b[0;34m\u001b[0m\u001b[0m\n\u001b[0m\u001b[1;32m     68\u001b[0m     \u001b[0;32mfinally\u001b[0m\u001b[0;34m:\u001b[0m\u001b[0;34m\u001b[0m\u001b[0;34m\u001b[0m\u001b[0m\n\u001b[1;32m     69\u001b[0m       \u001b[0;32mdel\u001b[0m \u001b[0mfiltered_tb\u001b[0m\u001b[0;34m\u001b[0m\u001b[0;34m\u001b[0m\u001b[0m\n",
            "\u001b[0;32m/usr/local/lib/python3.7/dist-packages/tensorflow/python/framework/ops.py\u001b[0m in \u001b[0;36m_create_c_op\u001b[0;34m(graph, node_def, inputs, control_inputs, op_def)\u001b[0m\n\u001b[1;32m   2011\u001b[0m   \u001b[0;32mexcept\u001b[0m \u001b[0merrors\u001b[0m\u001b[0;34m.\u001b[0m\u001b[0mInvalidArgumentError\u001b[0m \u001b[0;32mas\u001b[0m \u001b[0me\u001b[0m\u001b[0;34m:\u001b[0m\u001b[0;34m\u001b[0m\u001b[0;34m\u001b[0m\u001b[0m\n\u001b[1;32m   2012\u001b[0m     \u001b[0;31m# Convert to ValueError for backwards compatibility.\u001b[0m\u001b[0;34m\u001b[0m\u001b[0;34m\u001b[0m\u001b[0;34m\u001b[0m\u001b[0m\n\u001b[0;32m-> 2013\u001b[0;31m     \u001b[0;32mraise\u001b[0m \u001b[0mValueError\u001b[0m\u001b[0;34m(\u001b[0m\u001b[0me\u001b[0m\u001b[0;34m.\u001b[0m\u001b[0mmessage\u001b[0m\u001b[0;34m)\u001b[0m\u001b[0;34m\u001b[0m\u001b[0;34m\u001b[0m\u001b[0m\n\u001b[0m\u001b[1;32m   2014\u001b[0m \u001b[0;34m\u001b[0m\u001b[0m\n\u001b[1;32m   2015\u001b[0m   \u001b[0;32mreturn\u001b[0m \u001b[0mc_op\u001b[0m\u001b[0;34m\u001b[0m\u001b[0;34m\u001b[0m\u001b[0m\n",
            "\u001b[0;31mValueError\u001b[0m: Exception encountered when calling layer \"max_pooling2d_8\" (type MaxPooling2D).\n\nNegative dimension size caused by subtracting 4 from 2 for '{{node max_pooling2d_8/MaxPool}} = MaxPool[T=DT_FLOAT, data_format=\"NHWC\", explicit_paddings=[], ksize=[1, 4, 4, 1], padding=\"VALID\", strides=[1, 4, 4, 1]](Placeholder)' with input shapes: [?,2,2,32].\n\nCall arguments received:\n  • inputs=tf.Tensor(shape=(None, 2, 2, 32), dtype=float32)"
          ]
        }
      ]
    },
    {
      "cell_type": "code",
      "source": [
        "model.compile(loss='categorical_crossentropy', optimizer='adam', metrics=['accuracy'])"
      ],
      "metadata": {
        "id": "TmZhev3HdlC9"
      },
      "execution_count": 96,
      "outputs": []
    },
    {
      "cell_type": "code",
      "source": [
        "model.summary()"
      ],
      "metadata": {
        "colab": {
          "base_uri": "https://localhost:8080/"
        },
        "id": "juYFsDsJ-20K",
        "outputId": "4f8b09e3-bb2b-463d-d49b-ca74f53950c7"
      },
      "execution_count": 97,
      "outputs": [
        {
          "output_type": "stream",
          "name": "stdout",
          "text": [
            "Model: \"sequential_6\"\n",
            "_________________________________________________________________\n",
            " Layer (type)                Output Shape              Param #   \n",
            "=================================================================\n",
            " conv2d_12 (Conv2D)          (None, 32, 32, 32)        896       \n",
            "                                                                 \n",
            " max_pooling2d_11 (MaxPoolin  (None, 16, 16, 32)       0         \n",
            " g2D)                                                            \n",
            "                                                                 \n",
            " conv2d_13 (Conv2D)          (None, 16, 16, 32)        9248      \n",
            "                                                                 \n",
            " max_pooling2d_12 (MaxPoolin  (None, 8, 8, 32)         0         \n",
            " g2D)                                                            \n",
            "                                                                 \n",
            " dropout_8 (Dropout)         (None, 8, 8, 32)          0         \n",
            "                                                                 \n",
            " flatten_4 (Flatten)         (None, 2048)              0         \n",
            "                                                                 \n",
            " dense_8 (Dense)             (None, 20)                40980     \n",
            "                                                                 \n",
            " dropout_9 (Dropout)         (None, 20)                0         \n",
            "                                                                 \n",
            " dense_9 (Dense)             (None, 4)                 84        \n",
            "                                                                 \n",
            "=================================================================\n",
            "Total params: 51,208\n",
            "Trainable params: 51,208\n",
            "Non-trainable params: 0\n",
            "_________________________________________________________________\n"
          ]
        }
      ]
    },
    {
      "cell_type": "code",
      "source": [
        "from keras.preprocessing.image import ImageDataGenerator\n",
        "datagen = ImageDataGenerator(\n",
        "    rotation_range = 10,\n",
        "    zoom_range = 0.1,\n",
        "    width_shift_range = 0.1,\n",
        "    height_shift_range = 0.1\n",
        ")\n",
        "\n",
        "datagen.fit(x_train)"
      ],
      "metadata": {
        "id": "3nngshZy2XzG"
      },
      "execution_count": 98,
      "outputs": []
    },
    {
      "cell_type": "code",
      "source": [
        "history = model.fit(datagen.flow(x_train,y_train,batch_size=32), validation_data=(x_val, y_val), epochs = 500)"
      ],
      "metadata": {
        "colab": {
          "base_uri": "https://localhost:8080/"
        },
        "id": "zy9GS6UBz636",
        "outputId": "c9b9579b-bc4e-4622-b5d3-832a3ef87f27"
      },
      "execution_count": 99,
      "outputs": [
        {
          "output_type": "stream",
          "name": "stdout",
          "text": [
            "Epoch 1/500\n",
            "36/36 [==============================] - 1s 18ms/step - loss: 1.3911 - accuracy: 0.2504 - val_loss: 1.3863 - val_accuracy: 0.2734\n",
            "Epoch 2/500\n",
            "36/36 [==============================] - 1s 15ms/step - loss: 1.3862 - accuracy: 0.2583 - val_loss: 1.3849 - val_accuracy: 0.2031\n",
            "Epoch 3/500\n",
            "36/36 [==============================] - 1s 15ms/step - loss: 1.3829 - accuracy: 0.2443 - val_loss: 1.3711 - val_accuracy: 0.2656\n",
            "Epoch 4/500\n",
            "36/36 [==============================] - 1s 15ms/step - loss: 1.3673 - accuracy: 0.3078 - val_loss: 1.3284 - val_accuracy: 0.4375\n",
            "Epoch 5/500\n",
            "36/36 [==============================] - 1s 15ms/step - loss: 1.3459 - accuracy: 0.3313 - val_loss: 1.2448 - val_accuracy: 0.5234\n",
            "Epoch 6/500\n",
            "36/36 [==============================] - 1s 15ms/step - loss: 1.2819 - accuracy: 0.3800 - val_loss: 1.1643 - val_accuracy: 0.5391\n",
            "Epoch 7/500\n",
            "36/36 [==============================] - 1s 14ms/step - loss: 1.2236 - accuracy: 0.4443 - val_loss: 1.1222 - val_accuracy: 0.5703\n",
            "Epoch 8/500\n",
            "36/36 [==============================] - 1s 14ms/step - loss: 1.2116 - accuracy: 0.4617 - val_loss: 1.0543 - val_accuracy: 0.5391\n",
            "Epoch 9/500\n",
            "36/36 [==============================] - 1s 15ms/step - loss: 1.2017 - accuracy: 0.4461 - val_loss: 1.0448 - val_accuracy: 0.5547\n",
            "Epoch 10/500\n",
            "36/36 [==============================] - 1s 14ms/step - loss: 1.1702 - accuracy: 0.4670 - val_loss: 1.0424 - val_accuracy: 0.5625\n",
            "Epoch 11/500\n",
            "36/36 [==============================] - 1s 15ms/step - loss: 1.1806 - accuracy: 0.4609 - val_loss: 1.0186 - val_accuracy: 0.5625\n",
            "Epoch 12/500\n",
            "36/36 [==============================] - 1s 14ms/step - loss: 1.1637 - accuracy: 0.4817 - val_loss: 1.0255 - val_accuracy: 0.5547\n",
            "Epoch 13/500\n",
            "36/36 [==============================] - 1s 15ms/step - loss: 1.1472 - accuracy: 0.4774 - val_loss: 0.9936 - val_accuracy: 0.5625\n",
            "Epoch 14/500\n",
            "36/36 [==============================] - 1s 14ms/step - loss: 1.1362 - accuracy: 0.4878 - val_loss: 0.9923 - val_accuracy: 0.6250\n",
            "Epoch 15/500\n",
            "36/36 [==============================] - 1s 14ms/step - loss: 1.1112 - accuracy: 0.5052 - val_loss: 1.0040 - val_accuracy: 0.5156\n",
            "Epoch 16/500\n",
            "36/36 [==============================] - 1s 14ms/step - loss: 1.1552 - accuracy: 0.4974 - val_loss: 0.9838 - val_accuracy: 0.6094\n",
            "Epoch 17/500\n",
            "36/36 [==============================] - 1s 14ms/step - loss: 1.1327 - accuracy: 0.4687 - val_loss: 0.9806 - val_accuracy: 0.5938\n",
            "Epoch 18/500\n",
            "36/36 [==============================] - 1s 15ms/step - loss: 1.1277 - accuracy: 0.4678 - val_loss: 0.9801 - val_accuracy: 0.6094\n",
            "Epoch 19/500\n",
            "36/36 [==============================] - 1s 15ms/step - loss: 1.1018 - accuracy: 0.5070 - val_loss: 0.9822 - val_accuracy: 0.5781\n",
            "Epoch 20/500\n",
            "36/36 [==============================] - 1s 15ms/step - loss: 1.0980 - accuracy: 0.5000 - val_loss: 0.9461 - val_accuracy: 0.6172\n",
            "Epoch 21/500\n",
            "36/36 [==============================] - 1s 15ms/step - loss: 1.1293 - accuracy: 0.5035 - val_loss: 0.9694 - val_accuracy: 0.5703\n",
            "Epoch 22/500\n",
            "36/36 [==============================] - 1s 14ms/step - loss: 1.1275 - accuracy: 0.5026 - val_loss: 0.9649 - val_accuracy: 0.6172\n",
            "Epoch 23/500\n",
            "36/36 [==============================] - 1s 14ms/step - loss: 1.1131 - accuracy: 0.5000 - val_loss: 0.9466 - val_accuracy: 0.6094\n",
            "Epoch 24/500\n",
            "36/36 [==============================] - 1s 15ms/step - loss: 1.1162 - accuracy: 0.5096 - val_loss: 0.9554 - val_accuracy: 0.6250\n",
            "Epoch 25/500\n",
            "36/36 [==============================] - 1s 15ms/step - loss: 1.1000 - accuracy: 0.4939 - val_loss: 0.9472 - val_accuracy: 0.5703\n",
            "Epoch 26/500\n",
            "36/36 [==============================] - 1s 15ms/step - loss: 1.0953 - accuracy: 0.5157 - val_loss: 0.9222 - val_accuracy: 0.6328\n",
            "Epoch 27/500\n",
            "36/36 [==============================] - 1s 15ms/step - loss: 1.1077 - accuracy: 0.5070 - val_loss: 0.9498 - val_accuracy: 0.5703\n",
            "Epoch 28/500\n",
            "36/36 [==============================] - 1s 15ms/step - loss: 1.0893 - accuracy: 0.5096 - val_loss: 0.9117 - val_accuracy: 0.6250\n",
            "Epoch 29/500\n",
            "36/36 [==============================] - 1s 15ms/step - loss: 1.0952 - accuracy: 0.5322 - val_loss: 0.9131 - val_accuracy: 0.6094\n",
            "Epoch 30/500\n",
            "36/36 [==============================] - 1s 14ms/step - loss: 1.0682 - accuracy: 0.5487 - val_loss: 0.9184 - val_accuracy: 0.5938\n",
            "Epoch 31/500\n",
            "36/36 [==============================] - 1s 14ms/step - loss: 1.0793 - accuracy: 0.5287 - val_loss: 0.9009 - val_accuracy: 0.6094\n",
            "Epoch 32/500\n",
            "36/36 [==============================] - 1s 15ms/step - loss: 1.0759 - accuracy: 0.5374 - val_loss: 0.9257 - val_accuracy: 0.6016\n",
            "Epoch 33/500\n",
            "36/36 [==============================] - 1s 14ms/step - loss: 1.0507 - accuracy: 0.5530 - val_loss: 0.8898 - val_accuracy: 0.6406\n",
            "Epoch 34/500\n",
            "36/36 [==============================] - 1s 15ms/step - loss: 1.0884 - accuracy: 0.5287 - val_loss: 0.9316 - val_accuracy: 0.5938\n",
            "Epoch 35/500\n",
            "36/36 [==============================] - 1s 15ms/step - loss: 1.1054 - accuracy: 0.5078 - val_loss: 0.9274 - val_accuracy: 0.6094\n",
            "Epoch 36/500\n",
            "36/36 [==============================] - 1s 15ms/step - loss: 1.0542 - accuracy: 0.5452 - val_loss: 0.8933 - val_accuracy: 0.6562\n",
            "Epoch 37/500\n",
            "36/36 [==============================] - 1s 15ms/step - loss: 1.0257 - accuracy: 0.5322 - val_loss: 0.8903 - val_accuracy: 0.6406\n",
            "Epoch 38/500\n",
            "36/36 [==============================] - 1s 15ms/step - loss: 1.0157 - accuracy: 0.5565 - val_loss: 0.9194 - val_accuracy: 0.6016\n",
            "Epoch 39/500\n",
            "36/36 [==============================] - 1s 15ms/step - loss: 1.0472 - accuracy: 0.5339 - val_loss: 0.8866 - val_accuracy: 0.6172\n",
            "Epoch 40/500\n",
            "36/36 [==============================] - 1s 14ms/step - loss: 1.0492 - accuracy: 0.5443 - val_loss: 0.9266 - val_accuracy: 0.6016\n",
            "Epoch 41/500\n",
            "36/36 [==============================] - 1s 15ms/step - loss: 1.0438 - accuracy: 0.5513 - val_loss: 0.8894 - val_accuracy: 0.6562\n",
            "Epoch 42/500\n",
            "36/36 [==============================] - 1s 15ms/step - loss: 1.0557 - accuracy: 0.5513 - val_loss: 0.9012 - val_accuracy: 0.6016\n",
            "Epoch 43/500\n",
            "36/36 [==============================] - 1s 15ms/step - loss: 1.0517 - accuracy: 0.5461 - val_loss: 0.9025 - val_accuracy: 0.6328\n",
            "Epoch 44/500\n",
            "36/36 [==============================] - 1s 15ms/step - loss: 1.0528 - accuracy: 0.5270 - val_loss: 0.9127 - val_accuracy: 0.6094\n",
            "Epoch 45/500\n",
            "36/36 [==============================] - 1s 15ms/step - loss: 1.0471 - accuracy: 0.5270 - val_loss: 0.8978 - val_accuracy: 0.6250\n",
            "Epoch 46/500\n",
            "36/36 [==============================] - 1s 14ms/step - loss: 1.0275 - accuracy: 0.5461 - val_loss: 0.8953 - val_accuracy: 0.6562\n",
            "Epoch 47/500\n",
            "36/36 [==============================] - 1s 14ms/step - loss: 0.9901 - accuracy: 0.5730 - val_loss: 0.8882 - val_accuracy: 0.6484\n",
            "Epoch 48/500\n",
            "36/36 [==============================] - 1s 15ms/step - loss: 1.0409 - accuracy: 0.5565 - val_loss: 0.9072 - val_accuracy: 0.6484\n",
            "Epoch 49/500\n",
            "36/36 [==============================] - 1s 15ms/step - loss: 1.0123 - accuracy: 0.5513 - val_loss: 0.8828 - val_accuracy: 0.6797\n",
            "Epoch 50/500\n",
            "36/36 [==============================] - 1s 15ms/step - loss: 0.9912 - accuracy: 0.5757 - val_loss: 0.8898 - val_accuracy: 0.6250\n",
            "Epoch 51/500\n",
            "36/36 [==============================] - 1s 15ms/step - loss: 1.0142 - accuracy: 0.5600 - val_loss: 0.8710 - val_accuracy: 0.6406\n",
            "Epoch 52/500\n",
            "36/36 [==============================] - 1s 15ms/step - loss: 1.0354 - accuracy: 0.5557 - val_loss: 0.9034 - val_accuracy: 0.6484\n",
            "Epoch 53/500\n",
            "36/36 [==============================] - 1s 15ms/step - loss: 1.0217 - accuracy: 0.5409 - val_loss: 0.9040 - val_accuracy: 0.6641\n",
            "Epoch 54/500\n",
            "36/36 [==============================] - 1s 14ms/step - loss: 1.0191 - accuracy: 0.5557 - val_loss: 0.9060 - val_accuracy: 0.6641\n",
            "Epoch 55/500\n",
            "36/36 [==============================] - 1s 14ms/step - loss: 1.0048 - accuracy: 0.5809 - val_loss: 0.8959 - val_accuracy: 0.6562\n",
            "Epoch 56/500\n",
            "36/36 [==============================] - 1s 15ms/step - loss: 0.9885 - accuracy: 0.5661 - val_loss: 0.8942 - val_accuracy: 0.6406\n",
            "Epoch 57/500\n",
            "36/36 [==============================] - 1s 15ms/step - loss: 1.0117 - accuracy: 0.5617 - val_loss: 0.9097 - val_accuracy: 0.6562\n",
            "Epoch 58/500\n",
            "36/36 [==============================] - 1s 15ms/step - loss: 1.0121 - accuracy: 0.5739 - val_loss: 0.8961 - val_accuracy: 0.6328\n",
            "Epoch 59/500\n",
            "36/36 [==============================] - 1s 15ms/step - loss: 1.0013 - accuracy: 0.5748 - val_loss: 0.8772 - val_accuracy: 0.6875\n",
            "Epoch 60/500\n",
            "36/36 [==============================] - 1s 15ms/step - loss: 1.0062 - accuracy: 0.5548 - val_loss: 0.8885 - val_accuracy: 0.6328\n",
            "Epoch 61/500\n",
            "36/36 [==============================] - 1s 14ms/step - loss: 0.9816 - accuracy: 0.5643 - val_loss: 0.8673 - val_accuracy: 0.6484\n",
            "Epoch 62/500\n",
            "36/36 [==============================] - 1s 15ms/step - loss: 0.9779 - accuracy: 0.5609 - val_loss: 0.8692 - val_accuracy: 0.6797\n",
            "Epoch 63/500\n",
            "36/36 [==============================] - 1s 15ms/step - loss: 0.9707 - accuracy: 0.5800 - val_loss: 0.8744 - val_accuracy: 0.6641\n",
            "Epoch 64/500\n",
            "36/36 [==============================] - 1s 14ms/step - loss: 0.9919 - accuracy: 0.5661 - val_loss: 0.8832 - val_accuracy: 0.6406\n",
            "Epoch 65/500\n",
            "36/36 [==============================] - 1s 15ms/step - loss: 0.9429 - accuracy: 0.5991 - val_loss: 0.8709 - val_accuracy: 0.6406\n",
            "Epoch 66/500\n",
            "36/36 [==============================] - 1s 15ms/step - loss: 0.9917 - accuracy: 0.5713 - val_loss: 0.8951 - val_accuracy: 0.6484\n",
            "Epoch 67/500\n",
            "36/36 [==============================] - 1s 15ms/step - loss: 0.9870 - accuracy: 0.5600 - val_loss: 0.9027 - val_accuracy: 0.6328\n",
            "Epoch 68/500\n",
            "36/36 [==============================] - 1s 14ms/step - loss: 0.9919 - accuracy: 0.5565 - val_loss: 0.8508 - val_accuracy: 0.6562\n",
            "Epoch 69/500\n",
            "36/36 [==============================] - 1s 15ms/step - loss: 0.9873 - accuracy: 0.5896 - val_loss: 0.8614 - val_accuracy: 0.7109\n",
            "Epoch 70/500\n",
            "36/36 [==============================] - 1s 15ms/step - loss: 0.9861 - accuracy: 0.5661 - val_loss: 0.8876 - val_accuracy: 0.6406\n",
            "Epoch 71/500\n",
            "36/36 [==============================] - 1s 15ms/step - loss: 0.9506 - accuracy: 0.5783 - val_loss: 0.8686 - val_accuracy: 0.6875\n",
            "Epoch 72/500\n",
            "36/36 [==============================] - 1s 14ms/step - loss: 0.9272 - accuracy: 0.5904 - val_loss: 0.8653 - val_accuracy: 0.6641\n",
            "Epoch 73/500\n",
            "36/36 [==============================] - 1s 15ms/step - loss: 0.9607 - accuracy: 0.5713 - val_loss: 0.8759 - val_accuracy: 0.6484\n",
            "Epoch 74/500\n",
            "36/36 [==============================] - 1s 15ms/step - loss: 0.9749 - accuracy: 0.5800 - val_loss: 0.8655 - val_accuracy: 0.6719\n",
            "Epoch 75/500\n",
            "36/36 [==============================] - 1s 15ms/step - loss: 0.9804 - accuracy: 0.5739 - val_loss: 0.9063 - val_accuracy: 0.6328\n",
            "Epoch 76/500\n",
            "36/36 [==============================] - 1s 15ms/step - loss: 0.9530 - accuracy: 0.5765 - val_loss: 0.8725 - val_accuracy: 0.6562\n",
            "Epoch 77/500\n",
            "36/36 [==============================] - 1s 14ms/step - loss: 0.9757 - accuracy: 0.5678 - val_loss: 0.8810 - val_accuracy: 0.6719\n",
            "Epoch 78/500\n",
            "36/36 [==============================] - 1s 15ms/step - loss: 0.9494 - accuracy: 0.5757 - val_loss: 0.8645 - val_accuracy: 0.6719\n",
            "Epoch 79/500\n",
            "36/36 [==============================] - 1s 15ms/step - loss: 0.9729 - accuracy: 0.5835 - val_loss: 0.9030 - val_accuracy: 0.6719\n",
            "Epoch 80/500\n",
            "36/36 [==============================] - 1s 15ms/step - loss: 0.9600 - accuracy: 0.5939 - val_loss: 0.9192 - val_accuracy: 0.6250\n",
            "Epoch 81/500\n",
            "36/36 [==============================] - 1s 15ms/step - loss: 0.9545 - accuracy: 0.5948 - val_loss: 0.8804 - val_accuracy: 0.6641\n",
            "Epoch 82/500\n",
            "36/36 [==============================] - 1s 15ms/step - loss: 0.9395 - accuracy: 0.5835 - val_loss: 0.8872 - val_accuracy: 0.6484\n",
            "Epoch 83/500\n",
            "36/36 [==============================] - 1s 15ms/step - loss: 0.9341 - accuracy: 0.5948 - val_loss: 0.8506 - val_accuracy: 0.6562\n",
            "Epoch 84/500\n",
            "36/36 [==============================] - 1s 15ms/step - loss: 0.9761 - accuracy: 0.5730 - val_loss: 0.8696 - val_accuracy: 0.6641\n",
            "Epoch 85/500\n",
            "36/36 [==============================] - 1s 15ms/step - loss: 0.9663 - accuracy: 0.5617 - val_loss: 0.8700 - val_accuracy: 0.6484\n",
            "Epoch 86/500\n",
            "36/36 [==============================] - 1s 15ms/step - loss: 0.9205 - accuracy: 0.5896 - val_loss: 0.8772 - val_accuracy: 0.6719\n",
            "Epoch 87/500\n",
            "36/36 [==============================] - 1s 15ms/step - loss: 0.9245 - accuracy: 0.5904 - val_loss: 0.8884 - val_accuracy: 0.6406\n",
            "Epoch 88/500\n",
            "36/36 [==============================] - 1s 15ms/step - loss: 0.9452 - accuracy: 0.5913 - val_loss: 0.8744 - val_accuracy: 0.6641\n",
            "Epoch 89/500\n",
            "36/36 [==============================] - 1s 15ms/step - loss: 0.9349 - accuracy: 0.5983 - val_loss: 0.8862 - val_accuracy: 0.6719\n",
            "Epoch 90/500\n",
            "36/36 [==============================] - 1s 15ms/step - loss: 0.9261 - accuracy: 0.5878 - val_loss: 0.8705 - val_accuracy: 0.6484\n",
            "Epoch 91/500\n",
            "36/36 [==============================] - 1s 15ms/step - loss: 0.9144 - accuracy: 0.6009 - val_loss: 0.8752 - val_accuracy: 0.6797\n",
            "Epoch 92/500\n",
            "36/36 [==============================] - 1s 15ms/step - loss: 0.9266 - accuracy: 0.5939 - val_loss: 0.9093 - val_accuracy: 0.6250\n",
            "Epoch 93/500\n",
            "36/36 [==============================] - 1s 15ms/step - loss: 0.9520 - accuracy: 0.5643 - val_loss: 0.8726 - val_accuracy: 0.6562\n",
            "Epoch 94/500\n",
            "36/36 [==============================] - 1s 15ms/step - loss: 0.9341 - accuracy: 0.6061 - val_loss: 0.8582 - val_accuracy: 0.6797\n",
            "Epoch 95/500\n",
            "36/36 [==============================] - 1s 14ms/step - loss: 0.9256 - accuracy: 0.6017 - val_loss: 0.8635 - val_accuracy: 0.6719\n",
            "Epoch 96/500\n",
            "36/36 [==============================] - 1s 15ms/step - loss: 0.9193 - accuracy: 0.5939 - val_loss: 0.9022 - val_accuracy: 0.6484\n",
            "Epoch 97/500\n",
            "36/36 [==============================] - 1s 15ms/step - loss: 0.9181 - accuracy: 0.6026 - val_loss: 0.8561 - val_accuracy: 0.6641\n",
            "Epoch 98/500\n",
            "36/36 [==============================] - 1s 15ms/step - loss: 0.9339 - accuracy: 0.6000 - val_loss: 0.8519 - val_accuracy: 0.6641\n",
            "Epoch 99/500\n",
            "36/36 [==============================] - 1s 15ms/step - loss: 0.9132 - accuracy: 0.6000 - val_loss: 0.8441 - val_accuracy: 0.6484\n",
            "Epoch 100/500\n",
            "36/36 [==============================] - 1s 16ms/step - loss: 0.9277 - accuracy: 0.6139 - val_loss: 0.8557 - val_accuracy: 0.6797\n",
            "Epoch 101/500\n",
            "36/36 [==============================] - 1s 15ms/step - loss: 0.8911 - accuracy: 0.6330 - val_loss: 0.8570 - val_accuracy: 0.6719\n",
            "Epoch 102/500\n",
            "36/36 [==============================] - 1s 15ms/step - loss: 0.9156 - accuracy: 0.6035 - val_loss: 0.8453 - val_accuracy: 0.7031\n",
            "Epoch 103/500\n",
            "36/36 [==============================] - 1s 15ms/step - loss: 0.8945 - accuracy: 0.6148 - val_loss: 0.8997 - val_accuracy: 0.6562\n",
            "Epoch 104/500\n",
            "36/36 [==============================] - 1s 15ms/step - loss: 0.9238 - accuracy: 0.6052 - val_loss: 0.8651 - val_accuracy: 0.6875\n",
            "Epoch 105/500\n",
            "36/36 [==============================] - 1s 15ms/step - loss: 0.8886 - accuracy: 0.6078 - val_loss: 0.8495 - val_accuracy: 0.6797\n",
            "Epoch 106/500\n",
            "36/36 [==============================] - 1s 14ms/step - loss: 0.9006 - accuracy: 0.6243 - val_loss: 0.8609 - val_accuracy: 0.6641\n",
            "Epoch 107/500\n",
            "36/36 [==============================] - 1s 15ms/step - loss: 0.9271 - accuracy: 0.6130 - val_loss: 0.8918 - val_accuracy: 0.6641\n",
            "Epoch 108/500\n",
            "36/36 [==============================] - 1s 15ms/step - loss: 0.8821 - accuracy: 0.6339 - val_loss: 0.8700 - val_accuracy: 0.6797\n",
            "Epoch 109/500\n",
            "36/36 [==============================] - 1s 15ms/step - loss: 0.9103 - accuracy: 0.6243 - val_loss: 0.8838 - val_accuracy: 0.6719\n",
            "Epoch 110/500\n",
            "36/36 [==============================] - 1s 15ms/step - loss: 0.8873 - accuracy: 0.6235 - val_loss: 0.8966 - val_accuracy: 0.6484\n",
            "Epoch 111/500\n",
            "36/36 [==============================] - 1s 15ms/step - loss: 0.8886 - accuracy: 0.6183 - val_loss: 0.9114 - val_accuracy: 0.6406\n",
            "Epoch 112/500\n",
            "36/36 [==============================] - 1s 15ms/step - loss: 0.9126 - accuracy: 0.6348 - val_loss: 0.8753 - val_accuracy: 0.6641\n",
            "Epoch 113/500\n",
            "36/36 [==============================] - 1s 15ms/step - loss: 0.8753 - accuracy: 0.6043 - val_loss: 0.8655 - val_accuracy: 0.6641\n",
            "Epoch 114/500\n",
            "36/36 [==============================] - 1s 15ms/step - loss: 0.9049 - accuracy: 0.6078 - val_loss: 0.8933 - val_accuracy: 0.6562\n",
            "Epoch 115/500\n",
            "36/36 [==============================] - 1s 15ms/step - loss: 0.8810 - accuracy: 0.6165 - val_loss: 0.8679 - val_accuracy: 0.7031\n",
            "Epoch 116/500\n",
            "36/36 [==============================] - 1s 15ms/step - loss: 0.9027 - accuracy: 0.5930 - val_loss: 0.8900 - val_accuracy: 0.6641\n",
            "Epoch 117/500\n",
            "36/36 [==============================] - 1s 15ms/step - loss: 0.8905 - accuracy: 0.6183 - val_loss: 0.8808 - val_accuracy: 0.6484\n",
            "Epoch 118/500\n",
            "36/36 [==============================] - 1s 15ms/step - loss: 0.9064 - accuracy: 0.6122 - val_loss: 0.8686 - val_accuracy: 0.6719\n",
            "Epoch 119/500\n",
            "36/36 [==============================] - 1s 15ms/step - loss: 0.8804 - accuracy: 0.6078 - val_loss: 0.8470 - val_accuracy: 0.6953\n",
            "Epoch 120/500\n",
            "36/36 [==============================] - 1s 15ms/step - loss: 0.8599 - accuracy: 0.6113 - val_loss: 0.8930 - val_accuracy: 0.6484\n",
            "Epoch 121/500\n",
            "36/36 [==============================] - 1s 15ms/step - loss: 0.9282 - accuracy: 0.6000 - val_loss: 0.8724 - val_accuracy: 0.6719\n",
            "Epoch 122/500\n",
            "36/36 [==============================] - 1s 15ms/step - loss: 0.9075 - accuracy: 0.5983 - val_loss: 0.8844 - val_accuracy: 0.6719\n",
            "Epoch 123/500\n",
            "36/36 [==============================] - 1s 15ms/step - loss: 0.8868 - accuracy: 0.6148 - val_loss: 0.8798 - val_accuracy: 0.6562\n",
            "Epoch 124/500\n",
            "36/36 [==============================] - 1s 15ms/step - loss: 0.9066 - accuracy: 0.6148 - val_loss: 0.8609 - val_accuracy: 0.6875\n",
            "Epoch 125/500\n",
            "36/36 [==============================] - 1s 15ms/step - loss: 0.8750 - accuracy: 0.6209 - val_loss: 0.8514 - val_accuracy: 0.6562\n",
            "Epoch 126/500\n",
            "36/36 [==============================] - 1s 15ms/step - loss: 0.9053 - accuracy: 0.6078 - val_loss: 0.8782 - val_accuracy: 0.6875\n",
            "Epoch 127/500\n",
            "36/36 [==============================] - 1s 15ms/step - loss: 0.8820 - accuracy: 0.6443 - val_loss: 0.8754 - val_accuracy: 0.6719\n",
            "Epoch 128/500\n",
            "36/36 [==============================] - 1s 15ms/step - loss: 0.8917 - accuracy: 0.6078 - val_loss: 0.8694 - val_accuracy: 0.6484\n",
            "Epoch 129/500\n",
            "36/36 [==============================] - 1s 15ms/step - loss: 0.8532 - accuracy: 0.6304 - val_loss: 0.8485 - val_accuracy: 0.6719\n",
            "Epoch 130/500\n",
            "36/36 [==============================] - 1s 15ms/step - loss: 0.8736 - accuracy: 0.6191 - val_loss: 0.8600 - val_accuracy: 0.6484\n",
            "Epoch 131/500\n",
            "36/36 [==============================] - 1s 15ms/step - loss: 0.8451 - accuracy: 0.6365 - val_loss: 0.8515 - val_accuracy: 0.6719\n",
            "Epoch 132/500\n",
            "36/36 [==============================] - 1s 15ms/step - loss: 0.8959 - accuracy: 0.5904 - val_loss: 0.8594 - val_accuracy: 0.6797\n",
            "Epoch 133/500\n",
            "36/36 [==============================] - 1s 15ms/step - loss: 0.8900 - accuracy: 0.6287 - val_loss: 0.8925 - val_accuracy: 0.6562\n",
            "Epoch 134/500\n",
            "36/36 [==============================] - 1s 15ms/step - loss: 0.9103 - accuracy: 0.6009 - val_loss: 0.8428 - val_accuracy: 0.6719\n",
            "Epoch 135/500\n",
            "36/36 [==============================] - 1s 15ms/step - loss: 0.8762 - accuracy: 0.6217 - val_loss: 0.8563 - val_accuracy: 0.6875\n",
            "Epoch 136/500\n",
            "36/36 [==============================] - 1s 15ms/step - loss: 0.8671 - accuracy: 0.6357 - val_loss: 0.8348 - val_accuracy: 0.7109\n",
            "Epoch 137/500\n",
            "36/36 [==============================] - 1s 15ms/step - loss: 0.8632 - accuracy: 0.6200 - val_loss: 0.8563 - val_accuracy: 0.6797\n",
            "Epoch 138/500\n",
            "36/36 [==============================] - 1s 15ms/step - loss: 0.8789 - accuracy: 0.6209 - val_loss: 0.8367 - val_accuracy: 0.7031\n",
            "Epoch 139/500\n",
            "36/36 [==============================] - 1s 15ms/step - loss: 0.8606 - accuracy: 0.6243 - val_loss: 0.8552 - val_accuracy: 0.6797\n",
            "Epoch 140/500\n",
            "36/36 [==============================] - 1s 15ms/step - loss: 0.8897 - accuracy: 0.6104 - val_loss: 0.8502 - val_accuracy: 0.7031\n",
            "Epoch 141/500\n",
            "36/36 [==============================] - 1s 15ms/step - loss: 0.8599 - accuracy: 0.6313 - val_loss: 0.8824 - val_accuracy: 0.6719\n",
            "Epoch 142/500\n",
            "36/36 [==============================] - 1s 15ms/step - loss: 0.8602 - accuracy: 0.6139 - val_loss: 0.8602 - val_accuracy: 0.6953\n",
            "Epoch 143/500\n",
            "36/36 [==============================] - 1s 15ms/step - loss: 0.8841 - accuracy: 0.6130 - val_loss: 0.8589 - val_accuracy: 0.6875\n",
            "Epoch 144/500\n",
            "36/36 [==============================] - 1s 15ms/step - loss: 0.8332 - accuracy: 0.6400 - val_loss: 0.8382 - val_accuracy: 0.6875\n",
            "Epoch 145/500\n",
            "36/36 [==============================] - 1s 15ms/step - loss: 0.8303 - accuracy: 0.6365 - val_loss: 0.8940 - val_accuracy: 0.6641\n",
            "Epoch 146/500\n",
            "36/36 [==============================] - 1s 15ms/step - loss: 0.9002 - accuracy: 0.6252 - val_loss: 0.8799 - val_accuracy: 0.6641\n",
            "Epoch 147/500\n",
            "36/36 [==============================] - 1s 15ms/step - loss: 0.8702 - accuracy: 0.6243 - val_loss: 0.8673 - val_accuracy: 0.6875\n",
            "Epoch 148/500\n",
            "36/36 [==============================] - 1s 14ms/step - loss: 0.8437 - accuracy: 0.6443 - val_loss: 0.8880 - val_accuracy: 0.6953\n",
            "Epoch 149/500\n",
            "36/36 [==============================] - 1s 15ms/step - loss: 0.8506 - accuracy: 0.6539 - val_loss: 0.8527 - val_accuracy: 0.7109\n",
            "Epoch 150/500\n",
            "36/36 [==============================] - 1s 15ms/step - loss: 0.8800 - accuracy: 0.6417 - val_loss: 0.8814 - val_accuracy: 0.6641\n",
            "Epoch 151/500\n",
            "36/36 [==============================] - 1s 15ms/step - loss: 0.8432 - accuracy: 0.6591 - val_loss: 0.9118 - val_accuracy: 0.6562\n",
            "Epoch 152/500\n",
            "36/36 [==============================] - 1s 15ms/step - loss: 0.8718 - accuracy: 0.6157 - val_loss: 0.8651 - val_accuracy: 0.6953\n",
            "Epoch 153/500\n",
            "36/36 [==============================] - 1s 15ms/step - loss: 0.8744 - accuracy: 0.6130 - val_loss: 0.8655 - val_accuracy: 0.6641\n",
            "Epoch 154/500\n",
            "36/36 [==============================] - 1s 15ms/step - loss: 0.8479 - accuracy: 0.6374 - val_loss: 0.8761 - val_accuracy: 0.6641\n",
            "Epoch 155/500\n",
            "36/36 [==============================] - 1s 15ms/step - loss: 0.8481 - accuracy: 0.6174 - val_loss: 0.8513 - val_accuracy: 0.6641\n",
            "Epoch 156/500\n",
            "36/36 [==============================] - 1s 15ms/step - loss: 0.8666 - accuracy: 0.6252 - val_loss: 0.8774 - val_accuracy: 0.6641\n",
            "Epoch 157/500\n",
            "36/36 [==============================] - 1s 15ms/step - loss: 0.8725 - accuracy: 0.6339 - val_loss: 0.8675 - val_accuracy: 0.6328\n",
            "Epoch 158/500\n",
            "36/36 [==============================] - 1s 14ms/step - loss: 0.8502 - accuracy: 0.6365 - val_loss: 0.9241 - val_accuracy: 0.6562\n",
            "Epoch 159/500\n",
            "36/36 [==============================] - 1s 15ms/step - loss: 0.8620 - accuracy: 0.6565 - val_loss: 0.8608 - val_accuracy: 0.6797\n",
            "Epoch 160/500\n",
            "36/36 [==============================] - 1s 15ms/step - loss: 0.8262 - accuracy: 0.6417 - val_loss: 0.8357 - val_accuracy: 0.6953\n",
            "Epoch 161/500\n",
            "36/36 [==============================] - 1s 15ms/step - loss: 0.8695 - accuracy: 0.6270 - val_loss: 0.8413 - val_accuracy: 0.6953\n",
            "Epoch 162/500\n",
            "36/36 [==============================] - 1s 15ms/step - loss: 0.8447 - accuracy: 0.6496 - val_loss: 0.8817 - val_accuracy: 0.6562\n",
            "Epoch 163/500\n",
            "36/36 [==============================] - 1s 15ms/step - loss: 0.8274 - accuracy: 0.6548 - val_loss: 0.8860 - val_accuracy: 0.6562\n",
            "Epoch 164/500\n",
            "36/36 [==============================] - 1s 15ms/step - loss: 0.8683 - accuracy: 0.6365 - val_loss: 0.8936 - val_accuracy: 0.6562\n",
            "Epoch 165/500\n",
            "36/36 [==============================] - 1s 15ms/step - loss: 0.8282 - accuracy: 0.6304 - val_loss: 0.8702 - val_accuracy: 0.6641\n",
            "Epoch 166/500\n",
            "36/36 [==============================] - 1s 15ms/step - loss: 0.8260 - accuracy: 0.6452 - val_loss: 0.8728 - val_accuracy: 0.6953\n",
            "Epoch 167/500\n",
            "36/36 [==============================] - 1s 15ms/step - loss: 0.8174 - accuracy: 0.6687 - val_loss: 0.8678 - val_accuracy: 0.6719\n",
            "Epoch 168/500\n",
            "36/36 [==============================] - 1s 15ms/step - loss: 0.8244 - accuracy: 0.6661 - val_loss: 0.8778 - val_accuracy: 0.7109\n",
            "Epoch 169/500\n",
            "36/36 [==============================] - 1s 15ms/step - loss: 0.8666 - accuracy: 0.6278 - val_loss: 0.8761 - val_accuracy: 0.6953\n",
            "Epoch 170/500\n",
            "36/36 [==============================] - 1s 15ms/step - loss: 0.8302 - accuracy: 0.6470 - val_loss: 0.8250 - val_accuracy: 0.6953\n",
            "Epoch 171/500\n",
            "36/36 [==============================] - 1s 15ms/step - loss: 0.8279 - accuracy: 0.6487 - val_loss: 0.8398 - val_accuracy: 0.6484\n",
            "Epoch 172/500\n",
            "36/36 [==============================] - 1s 15ms/step - loss: 0.8093 - accuracy: 0.6504 - val_loss: 0.8472 - val_accuracy: 0.6719\n",
            "Epoch 173/500\n",
            "36/36 [==============================] - 1s 15ms/step - loss: 0.8147 - accuracy: 0.6400 - val_loss: 0.8486 - val_accuracy: 0.7031\n",
            "Epoch 174/500\n",
            "36/36 [==============================] - 1s 15ms/step - loss: 0.8161 - accuracy: 0.6635 - val_loss: 0.8548 - val_accuracy: 0.7109\n",
            "Epoch 175/500\n",
            "36/36 [==============================] - 1s 15ms/step - loss: 0.8109 - accuracy: 0.6470 - val_loss: 0.8726 - val_accuracy: 0.6797\n",
            "Epoch 176/500\n",
            "36/36 [==============================] - 1s 15ms/step - loss: 0.8247 - accuracy: 0.6470 - val_loss: 0.8611 - val_accuracy: 0.6953\n",
            "Epoch 177/500\n",
            "36/36 [==============================] - 1s 15ms/step - loss: 0.8604 - accuracy: 0.6296 - val_loss: 0.8447 - val_accuracy: 0.7109\n",
            "Epoch 178/500\n",
            "36/36 [==============================] - 1s 14ms/step - loss: 0.8016 - accuracy: 0.6635 - val_loss: 0.8801 - val_accuracy: 0.6875\n",
            "Epoch 179/500\n",
            "36/36 [==============================] - 1s 15ms/step - loss: 0.8162 - accuracy: 0.6687 - val_loss: 0.9435 - val_accuracy: 0.6328\n",
            "Epoch 180/500\n",
            "36/36 [==============================] - 1s 15ms/step - loss: 0.8490 - accuracy: 0.6174 - val_loss: 0.8946 - val_accuracy: 0.7031\n",
            "Epoch 181/500\n",
            "36/36 [==============================] - 1s 15ms/step - loss: 0.8133 - accuracy: 0.6470 - val_loss: 0.8916 - val_accuracy: 0.6484\n",
            "Epoch 182/500\n",
            "36/36 [==============================] - 1s 15ms/step - loss: 0.8191 - accuracy: 0.6487 - val_loss: 0.8744 - val_accuracy: 0.6641\n",
            "Epoch 183/500\n",
            "36/36 [==============================] - 1s 18ms/step - loss: 0.7920 - accuracy: 0.6670 - val_loss: 0.8659 - val_accuracy: 0.6875\n",
            "Epoch 184/500\n",
            "36/36 [==============================] - 1s 19ms/step - loss: 0.8092 - accuracy: 0.6591 - val_loss: 0.8585 - val_accuracy: 0.7344\n",
            "Epoch 185/500\n",
            "36/36 [==============================] - 1s 15ms/step - loss: 0.8046 - accuracy: 0.6583 - val_loss: 0.8433 - val_accuracy: 0.7031\n",
            "Epoch 186/500\n",
            "36/36 [==============================] - 1s 15ms/step - loss: 0.8321 - accuracy: 0.6452 - val_loss: 0.8535 - val_accuracy: 0.7031\n",
            "Epoch 187/500\n",
            "36/36 [==============================] - 1s 15ms/step - loss: 0.8160 - accuracy: 0.6739 - val_loss: 0.8409 - val_accuracy: 0.6641\n",
            "Epoch 188/500\n",
            "36/36 [==============================] - 1s 15ms/step - loss: 0.8086 - accuracy: 0.6704 - val_loss: 0.8864 - val_accuracy: 0.6562\n",
            "Epoch 189/500\n",
            "36/36 [==============================] - 1s 15ms/step - loss: 0.7899 - accuracy: 0.6548 - val_loss: 0.8673 - val_accuracy: 0.6953\n",
            "Epoch 190/500\n",
            "36/36 [==============================] - 1s 15ms/step - loss: 0.8006 - accuracy: 0.6522 - val_loss: 0.8569 - val_accuracy: 0.6719\n",
            "Epoch 191/500\n",
            "36/36 [==============================] - 1s 15ms/step - loss: 0.8309 - accuracy: 0.6435 - val_loss: 0.8601 - val_accuracy: 0.6641\n",
            "Epoch 192/500\n",
            "36/36 [==============================] - 1s 15ms/step - loss: 0.8622 - accuracy: 0.6304 - val_loss: 0.8664 - val_accuracy: 0.6562\n",
            "Epoch 193/500\n",
            "36/36 [==============================] - 1s 15ms/step - loss: 0.7955 - accuracy: 0.6791 - val_loss: 0.9027 - val_accuracy: 0.6875\n",
            "Epoch 194/500\n",
            "36/36 [==============================] - 1s 15ms/step - loss: 0.8157 - accuracy: 0.6687 - val_loss: 0.8787 - val_accuracy: 0.6719\n",
            "Epoch 195/500\n",
            "36/36 [==============================] - 1s 15ms/step - loss: 0.7757 - accuracy: 0.6687 - val_loss: 0.8871 - val_accuracy: 0.6562\n",
            "Epoch 196/500\n",
            "36/36 [==============================] - 1s 15ms/step - loss: 0.8089 - accuracy: 0.6670 - val_loss: 0.8619 - val_accuracy: 0.6719\n",
            "Epoch 197/500\n",
            "36/36 [==============================] - 1s 15ms/step - loss: 0.7924 - accuracy: 0.6557 - val_loss: 0.8600 - val_accuracy: 0.6562\n",
            "Epoch 198/500\n",
            "36/36 [==============================] - 1s 15ms/step - loss: 0.8120 - accuracy: 0.6557 - val_loss: 0.8613 - val_accuracy: 0.6875\n",
            "Epoch 199/500\n",
            "36/36 [==============================] - 1s 15ms/step - loss: 0.8299 - accuracy: 0.6696 - val_loss: 0.8398 - val_accuracy: 0.6719\n",
            "Epoch 200/500\n",
            "36/36 [==============================] - 1s 15ms/step - loss: 0.8182 - accuracy: 0.6591 - val_loss: 0.8637 - val_accuracy: 0.6719\n",
            "Epoch 201/500\n",
            "36/36 [==============================] - 1s 15ms/step - loss: 0.7767 - accuracy: 0.6800 - val_loss: 0.8641 - val_accuracy: 0.7031\n",
            "Epoch 202/500\n",
            "36/36 [==============================] - 1s 15ms/step - loss: 0.8172 - accuracy: 0.6574 - val_loss: 0.8681 - val_accuracy: 0.6797\n",
            "Epoch 203/500\n",
            "36/36 [==============================] - 1s 15ms/step - loss: 0.8148 - accuracy: 0.6443 - val_loss: 0.8665 - val_accuracy: 0.6641\n",
            "Epoch 204/500\n",
            "36/36 [==============================] - 1s 15ms/step - loss: 0.7937 - accuracy: 0.6565 - val_loss: 0.8589 - val_accuracy: 0.6875\n",
            "Epoch 205/500\n",
            "36/36 [==============================] - 1s 15ms/step - loss: 0.7950 - accuracy: 0.6609 - val_loss: 0.8758 - val_accuracy: 0.7109\n",
            "Epoch 206/500\n",
            "36/36 [==============================] - 1s 15ms/step - loss: 0.7920 - accuracy: 0.6687 - val_loss: 0.8416 - val_accuracy: 0.6953\n",
            "Epoch 207/500\n",
            "36/36 [==============================] - 1s 15ms/step - loss: 0.7704 - accuracy: 0.6739 - val_loss: 0.8365 - val_accuracy: 0.7109\n",
            "Epoch 208/500\n",
            "36/36 [==============================] - 1s 15ms/step - loss: 0.7921 - accuracy: 0.6843 - val_loss: 0.8616 - val_accuracy: 0.6797\n",
            "Epoch 209/500\n",
            "36/36 [==============================] - 1s 15ms/step - loss: 0.7912 - accuracy: 0.6583 - val_loss: 0.8814 - val_accuracy: 0.6875\n",
            "Epoch 210/500\n",
            "36/36 [==============================] - 1s 15ms/step - loss: 0.8041 - accuracy: 0.6583 - val_loss: 0.8508 - val_accuracy: 0.6953\n",
            "Epoch 211/500\n",
            "36/36 [==============================] - 1s 15ms/step - loss: 0.8090 - accuracy: 0.6409 - val_loss: 0.8767 - val_accuracy: 0.6484\n",
            "Epoch 212/500\n",
            "36/36 [==============================] - 1s 15ms/step - loss: 0.7659 - accuracy: 0.6852 - val_loss: 0.9031 - val_accuracy: 0.6406\n",
            "Epoch 213/500\n",
            "36/36 [==============================] - 1s 15ms/step - loss: 0.7724 - accuracy: 0.6887 - val_loss: 0.9293 - val_accuracy: 0.6328\n",
            "Epoch 214/500\n",
            "36/36 [==============================] - 1s 15ms/step - loss: 0.7977 - accuracy: 0.6809 - val_loss: 0.8915 - val_accuracy: 0.6797\n",
            "Epoch 215/500\n",
            "36/36 [==============================] - 1s 15ms/step - loss: 0.7998 - accuracy: 0.6826 - val_loss: 0.8587 - val_accuracy: 0.6797\n",
            "Epoch 216/500\n",
            "36/36 [==============================] - 1s 15ms/step - loss: 0.7924 - accuracy: 0.6748 - val_loss: 0.8791 - val_accuracy: 0.6641\n",
            "Epoch 217/500\n",
            "36/36 [==============================] - 1s 15ms/step - loss: 0.7668 - accuracy: 0.6826 - val_loss: 0.8455 - val_accuracy: 0.6562\n",
            "Epoch 218/500\n",
            "36/36 [==============================] - 1s 15ms/step - loss: 0.8024 - accuracy: 0.6574 - val_loss: 0.8615 - val_accuracy: 0.6719\n",
            "Epoch 219/500\n",
            "36/36 [==============================] - 1s 15ms/step - loss: 0.7756 - accuracy: 0.6670 - val_loss: 0.8543 - val_accuracy: 0.6953\n",
            "Epoch 220/500\n",
            "36/36 [==============================] - 1s 15ms/step - loss: 0.8187 - accuracy: 0.6687 - val_loss: 0.8492 - val_accuracy: 0.6562\n",
            "Epoch 221/500\n",
            "36/36 [==============================] - 1s 15ms/step - loss: 0.8202 - accuracy: 0.6652 - val_loss: 0.8649 - val_accuracy: 0.6641\n",
            "Epoch 222/500\n",
            "36/36 [==============================] - 1s 15ms/step - loss: 0.7733 - accuracy: 0.6722 - val_loss: 0.8531 - val_accuracy: 0.6641\n",
            "Epoch 223/500\n",
            "36/36 [==============================] - 1s 15ms/step - loss: 0.7479 - accuracy: 0.6861 - val_loss: 0.8770 - val_accuracy: 0.6719\n",
            "Epoch 224/500\n",
            "36/36 [==============================] - 1s 15ms/step - loss: 0.7832 - accuracy: 0.6643 - val_loss: 0.8893 - val_accuracy: 0.7031\n",
            "Epoch 225/500\n",
            "36/36 [==============================] - 1s 15ms/step - loss: 0.8054 - accuracy: 0.6557 - val_loss: 0.8361 - val_accuracy: 0.6875\n",
            "Epoch 226/500\n",
            "36/36 [==============================] - 1s 15ms/step - loss: 0.7927 - accuracy: 0.6687 - val_loss: 0.8530 - val_accuracy: 0.6641\n",
            "Epoch 227/500\n",
            "36/36 [==============================] - 1s 15ms/step - loss: 0.7976 - accuracy: 0.6748 - val_loss: 0.8958 - val_accuracy: 0.7266\n",
            "Epoch 228/500\n",
            "36/36 [==============================] - 1s 15ms/step - loss: 0.7667 - accuracy: 0.6774 - val_loss: 0.8638 - val_accuracy: 0.6797\n",
            "Epoch 229/500\n",
            "36/36 [==============================] - 1s 15ms/step - loss: 0.7379 - accuracy: 0.6904 - val_loss: 0.8857 - val_accuracy: 0.6875\n",
            "Epoch 230/500\n",
            "36/36 [==============================] - 1s 15ms/step - loss: 0.7612 - accuracy: 0.6870 - val_loss: 0.8375 - val_accuracy: 0.6719\n",
            "Epoch 231/500\n",
            "36/36 [==============================] - 1s 15ms/step - loss: 0.7956 - accuracy: 0.6591 - val_loss: 0.8660 - val_accuracy: 0.6797\n",
            "Epoch 232/500\n",
            "36/36 [==============================] - 1s 15ms/step - loss: 0.7821 - accuracy: 0.6774 - val_loss: 0.8405 - val_accuracy: 0.6953\n",
            "Epoch 233/500\n",
            "36/36 [==============================] - 1s 15ms/step - loss: 0.7987 - accuracy: 0.6652 - val_loss: 0.8331 - val_accuracy: 0.6641\n",
            "Epoch 234/500\n",
            "36/36 [==============================] - 1s 15ms/step - loss: 0.7563 - accuracy: 0.6957 - val_loss: 0.8932 - val_accuracy: 0.6875\n",
            "Epoch 235/500\n",
            "36/36 [==============================] - 1s 15ms/step - loss: 0.7501 - accuracy: 0.7017 - val_loss: 0.8453 - val_accuracy: 0.6797\n",
            "Epoch 236/500\n",
            "36/36 [==============================] - 1s 15ms/step - loss: 0.7257 - accuracy: 0.7070 - val_loss: 0.8843 - val_accuracy: 0.6797\n",
            "Epoch 237/500\n",
            "36/36 [==============================] - 1s 15ms/step - loss: 0.7810 - accuracy: 0.6826 - val_loss: 0.8329 - val_accuracy: 0.6719\n",
            "Epoch 238/500\n",
            "36/36 [==============================] - 1s 15ms/step - loss: 0.7795 - accuracy: 0.6652 - val_loss: 0.8621 - val_accuracy: 0.6406\n",
            "Epoch 239/500\n",
            "36/36 [==============================] - 1s 15ms/step - loss: 0.7559 - accuracy: 0.6774 - val_loss: 0.8507 - val_accuracy: 0.6875\n",
            "Epoch 240/500\n",
            "36/36 [==============================] - 1s 15ms/step - loss: 0.7482 - accuracy: 0.6957 - val_loss: 0.8811 - val_accuracy: 0.6562\n",
            "Epoch 241/500\n",
            "36/36 [==============================] - 1s 15ms/step - loss: 0.7901 - accuracy: 0.6609 - val_loss: 0.8326 - val_accuracy: 0.6719\n",
            "Epoch 242/500\n",
            "36/36 [==============================] - 1s 15ms/step - loss: 0.7425 - accuracy: 0.6930 - val_loss: 0.8284 - val_accuracy: 0.6562\n",
            "Epoch 243/500\n",
            "36/36 [==============================] - 1s 15ms/step - loss: 0.7685 - accuracy: 0.6809 - val_loss: 0.8480 - val_accuracy: 0.6875\n",
            "Epoch 244/500\n",
            "36/36 [==============================] - 1s 15ms/step - loss: 0.7488 - accuracy: 0.6939 - val_loss: 0.8782 - val_accuracy: 0.6797\n",
            "Epoch 245/500\n",
            "36/36 [==============================] - 1s 17ms/step - loss: 0.7630 - accuracy: 0.6904 - val_loss: 0.8715 - val_accuracy: 0.6719\n",
            "Epoch 246/500\n",
            "36/36 [==============================] - 1s 16ms/step - loss: 0.7435 - accuracy: 0.6904 - val_loss: 0.8586 - val_accuracy: 0.6875\n",
            "Epoch 247/500\n",
            "36/36 [==============================] - 1s 15ms/step - loss: 0.7758 - accuracy: 0.6661 - val_loss: 0.8583 - val_accuracy: 0.7266\n",
            "Epoch 248/500\n",
            "36/36 [==============================] - 1s 17ms/step - loss: 0.7804 - accuracy: 0.6704 - val_loss: 0.8622 - val_accuracy: 0.6875\n",
            "Epoch 249/500\n",
            "36/36 [==============================] - 1s 17ms/step - loss: 0.7556 - accuracy: 0.6835 - val_loss: 0.8504 - val_accuracy: 0.6641\n",
            "Epoch 250/500\n",
            "36/36 [==============================] - 1s 17ms/step - loss: 0.7669 - accuracy: 0.6948 - val_loss: 0.8383 - val_accuracy: 0.6953\n",
            "Epoch 251/500\n",
            "36/36 [==============================] - 1s 16ms/step - loss: 0.7491 - accuracy: 0.6957 - val_loss: 0.8728 - val_accuracy: 0.6484\n",
            "Epoch 252/500\n",
            "36/36 [==============================] - 1s 15ms/step - loss: 0.7117 - accuracy: 0.7104 - val_loss: 0.8346 - val_accuracy: 0.6797\n",
            "Epoch 253/500\n",
            "36/36 [==============================] - 1s 15ms/step - loss: 0.7059 - accuracy: 0.7113 - val_loss: 0.8452 - val_accuracy: 0.6797\n",
            "Epoch 254/500\n",
            "36/36 [==============================] - 1s 15ms/step - loss: 0.7512 - accuracy: 0.7035 - val_loss: 0.8922 - val_accuracy: 0.6875\n",
            "Epoch 255/500\n",
            "36/36 [==============================] - 1s 15ms/step - loss: 0.7627 - accuracy: 0.6791 - val_loss: 0.8708 - val_accuracy: 0.6797\n",
            "Epoch 256/500\n",
            "36/36 [==============================] - 1s 16ms/step - loss: 0.7436 - accuracy: 0.7009 - val_loss: 0.8798 - val_accuracy: 0.7031\n",
            "Epoch 257/500\n",
            "36/36 [==============================] - 1s 15ms/step - loss: 0.7488 - accuracy: 0.6939 - val_loss: 0.8878 - val_accuracy: 0.6719\n",
            "Epoch 258/500\n",
            "36/36 [==============================] - 1s 15ms/step - loss: 0.7641 - accuracy: 0.6791 - val_loss: 0.9221 - val_accuracy: 0.6484\n",
            "Epoch 259/500\n",
            "36/36 [==============================] - 1s 15ms/step - loss: 0.7131 - accuracy: 0.6957 - val_loss: 0.8628 - val_accuracy: 0.6875\n",
            "Epoch 260/500\n",
            "36/36 [==============================] - 1s 15ms/step - loss: 0.7784 - accuracy: 0.6704 - val_loss: 0.9080 - val_accuracy: 0.6719\n",
            "Epoch 261/500\n",
            "36/36 [==============================] - 1s 15ms/step - loss: 0.7331 - accuracy: 0.6930 - val_loss: 0.8676 - val_accuracy: 0.6797\n",
            "Epoch 262/500\n",
            "36/36 [==============================] - 1s 15ms/step - loss: 0.7800 - accuracy: 0.6809 - val_loss: 0.8431 - val_accuracy: 0.6641\n",
            "Epoch 263/500\n",
            "36/36 [==============================] - 1s 15ms/step - loss: 0.7661 - accuracy: 0.6878 - val_loss: 0.8678 - val_accuracy: 0.6641\n",
            "Epoch 264/500\n",
            "36/36 [==============================] - 1s 15ms/step - loss: 0.7629 - accuracy: 0.7000 - val_loss: 0.8267 - val_accuracy: 0.6953\n",
            "Epoch 265/500\n",
            "36/36 [==============================] - 1s 15ms/step - loss: 0.7827 - accuracy: 0.6661 - val_loss: 0.8491 - val_accuracy: 0.6875\n",
            "Epoch 266/500\n",
            "36/36 [==============================] - 1s 15ms/step - loss: 0.7651 - accuracy: 0.6965 - val_loss: 0.9200 - val_accuracy: 0.6562\n",
            "Epoch 267/500\n",
            "36/36 [==============================] - 1s 15ms/step - loss: 0.7449 - accuracy: 0.6783 - val_loss: 0.8746 - val_accuracy: 0.6719\n",
            "Epoch 268/500\n",
            "36/36 [==============================] - 1s 15ms/step - loss: 0.7299 - accuracy: 0.7017 - val_loss: 0.9044 - val_accuracy: 0.6797\n",
            "Epoch 269/500\n",
            "36/36 [==============================] - 1s 15ms/step - loss: 0.7285 - accuracy: 0.6957 - val_loss: 0.8734 - val_accuracy: 0.7031\n",
            "Epoch 270/500\n",
            "36/36 [==============================] - 1s 15ms/step - loss: 0.7219 - accuracy: 0.7061 - val_loss: 0.8750 - val_accuracy: 0.6875\n",
            "Epoch 271/500\n",
            "36/36 [==============================] - 1s 15ms/step - loss: 0.7084 - accuracy: 0.7052 - val_loss: 0.8636 - val_accuracy: 0.6797\n",
            "Epoch 272/500\n",
            "36/36 [==============================] - 1s 15ms/step - loss: 0.7389 - accuracy: 0.7000 - val_loss: 0.8465 - val_accuracy: 0.6562\n",
            "Epoch 273/500\n",
            "36/36 [==============================] - 1s 16ms/step - loss: 0.7287 - accuracy: 0.6913 - val_loss: 0.8568 - val_accuracy: 0.6797\n",
            "Epoch 274/500\n",
            "36/36 [==============================] - 1s 15ms/step - loss: 0.7797 - accuracy: 0.6739 - val_loss: 0.8635 - val_accuracy: 0.6953\n",
            "Epoch 275/500\n",
            "36/36 [==============================] - 1s 15ms/step - loss: 0.7635 - accuracy: 0.6913 - val_loss: 0.8557 - val_accuracy: 0.6953\n",
            "Epoch 276/500\n",
            "36/36 [==============================] - 1s 15ms/step - loss: 0.7138 - accuracy: 0.6913 - val_loss: 0.8473 - val_accuracy: 0.6641\n",
            "Epoch 277/500\n",
            "36/36 [==============================] - 1s 15ms/step - loss: 0.7210 - accuracy: 0.6983 - val_loss: 0.8579 - val_accuracy: 0.7031\n",
            "Epoch 278/500\n",
            "36/36 [==============================] - 1s 15ms/step - loss: 0.7199 - accuracy: 0.7061 - val_loss: 0.8635 - val_accuracy: 0.6875\n",
            "Epoch 279/500\n",
            "36/36 [==============================] - 1s 15ms/step - loss: 0.7148 - accuracy: 0.7078 - val_loss: 0.8429 - val_accuracy: 0.6641\n",
            "Epoch 280/500\n",
            "36/36 [==============================] - 1s 15ms/step - loss: 0.7226 - accuracy: 0.7078 - val_loss: 0.8530 - val_accuracy: 0.6797\n",
            "Epoch 281/500\n",
            "36/36 [==============================] - 1s 15ms/step - loss: 0.7288 - accuracy: 0.7000 - val_loss: 0.8965 - val_accuracy: 0.7031\n",
            "Epoch 282/500\n",
            "36/36 [==============================] - 1s 15ms/step - loss: 0.7223 - accuracy: 0.7009 - val_loss: 0.8505 - val_accuracy: 0.6719\n",
            "Epoch 283/500\n",
            "36/36 [==============================] - 1s 15ms/step - loss: 0.7258 - accuracy: 0.6878 - val_loss: 0.8512 - val_accuracy: 0.6953\n",
            "Epoch 284/500\n",
            "36/36 [==============================] - 1s 15ms/step - loss: 0.7468 - accuracy: 0.6852 - val_loss: 0.8530 - val_accuracy: 0.7031\n",
            "Epoch 285/500\n",
            "36/36 [==============================] - 1s 15ms/step - loss: 0.7201 - accuracy: 0.6896 - val_loss: 0.8294 - val_accuracy: 0.6953\n",
            "Epoch 286/500\n",
            "36/36 [==============================] - 1s 15ms/step - loss: 0.7415 - accuracy: 0.6878 - val_loss: 0.8583 - val_accuracy: 0.6797\n",
            "Epoch 287/500\n",
            "36/36 [==============================] - 1s 15ms/step - loss: 0.6892 - accuracy: 0.7000 - val_loss: 0.8370 - val_accuracy: 0.6953\n",
            "Epoch 288/500\n",
            "36/36 [==============================] - 1s 15ms/step - loss: 0.6948 - accuracy: 0.7209 - val_loss: 0.8553 - val_accuracy: 0.6953\n",
            "Epoch 289/500\n",
            "36/36 [==============================] - 1s 15ms/step - loss: 0.7042 - accuracy: 0.7000 - val_loss: 0.8755 - val_accuracy: 0.6641\n",
            "Epoch 290/500\n",
            "36/36 [==============================] - 1s 15ms/step - loss: 0.7234 - accuracy: 0.7061 - val_loss: 0.9010 - val_accuracy: 0.6328\n",
            "Epoch 291/500\n",
            "36/36 [==============================] - 1s 15ms/step - loss: 0.7324 - accuracy: 0.7052 - val_loss: 0.8774 - val_accuracy: 0.6484\n",
            "Epoch 292/500\n",
            "36/36 [==============================] - 1s 15ms/step - loss: 0.7660 - accuracy: 0.6739 - val_loss: 0.8412 - val_accuracy: 0.6953\n",
            "Epoch 293/500\n",
            "36/36 [==============================] - 1s 15ms/step - loss: 0.7190 - accuracy: 0.7113 - val_loss: 0.8629 - val_accuracy: 0.7109\n",
            "Epoch 294/500\n",
            "36/36 [==============================] - 1s 15ms/step - loss: 0.7453 - accuracy: 0.7000 - val_loss: 0.8718 - val_accuracy: 0.6875\n",
            "Epoch 295/500\n",
            "36/36 [==============================] - 1s 15ms/step - loss: 0.7286 - accuracy: 0.7009 - val_loss: 0.8184 - val_accuracy: 0.6484\n",
            "Epoch 296/500\n",
            "36/36 [==============================] - 1s 15ms/step - loss: 0.7102 - accuracy: 0.7122 - val_loss: 0.8508 - val_accuracy: 0.7031\n",
            "Epoch 297/500\n",
            "36/36 [==============================] - 1s 15ms/step - loss: 0.7279 - accuracy: 0.7130 - val_loss: 0.8446 - val_accuracy: 0.6875\n",
            "Epoch 298/500\n",
            "36/36 [==============================] - 1s 15ms/step - loss: 0.7065 - accuracy: 0.6922 - val_loss: 0.8548 - val_accuracy: 0.6797\n",
            "Epoch 299/500\n",
            "36/36 [==============================] - 1s 15ms/step - loss: 0.6821 - accuracy: 0.7252 - val_loss: 0.8517 - val_accuracy: 0.6953\n",
            "Epoch 300/500\n",
            "36/36 [==============================] - 1s 15ms/step - loss: 0.7191 - accuracy: 0.6948 - val_loss: 0.8642 - val_accuracy: 0.7188\n",
            "Epoch 301/500\n",
            "36/36 [==============================] - 1s 15ms/step - loss: 0.7072 - accuracy: 0.7061 - val_loss: 0.8426 - val_accuracy: 0.6953\n",
            "Epoch 302/500\n",
            "36/36 [==============================] - 1s 15ms/step - loss: 0.6838 - accuracy: 0.7304 - val_loss: 0.8425 - val_accuracy: 0.6719\n",
            "Epoch 303/500\n",
            "36/36 [==============================] - 1s 15ms/step - loss: 0.7159 - accuracy: 0.7165 - val_loss: 0.8433 - val_accuracy: 0.6875\n",
            "Epoch 304/500\n",
            "36/36 [==============================] - 1s 16ms/step - loss: 0.6790 - accuracy: 0.7174 - val_loss: 0.8431 - val_accuracy: 0.6797\n",
            "Epoch 305/500\n",
            "36/36 [==============================] - 1s 15ms/step - loss: 0.7315 - accuracy: 0.6983 - val_loss: 0.8172 - val_accuracy: 0.6875\n",
            "Epoch 306/500\n",
            "36/36 [==============================] - 1s 15ms/step - loss: 0.6941 - accuracy: 0.7122 - val_loss: 0.8522 - val_accuracy: 0.6797\n",
            "Epoch 307/500\n",
            "36/36 [==============================] - 1s 15ms/step - loss: 0.7034 - accuracy: 0.7122 - val_loss: 0.8924 - val_accuracy: 0.7266\n",
            "Epoch 308/500\n",
            "36/36 [==============================] - 1s 15ms/step - loss: 0.6773 - accuracy: 0.7235 - val_loss: 0.8828 - val_accuracy: 0.7031\n",
            "Epoch 309/500\n",
            "36/36 [==============================] - 1s 15ms/step - loss: 0.7209 - accuracy: 0.7026 - val_loss: 0.8593 - val_accuracy: 0.7031\n",
            "Epoch 310/500\n",
            "36/36 [==============================] - 1s 15ms/step - loss: 0.7269 - accuracy: 0.6913 - val_loss: 0.8917 - val_accuracy: 0.6953\n",
            "Epoch 311/500\n",
            "36/36 [==============================] - 1s 15ms/step - loss: 0.7003 - accuracy: 0.7043 - val_loss: 0.8663 - val_accuracy: 0.7188\n",
            "Epoch 312/500\n",
            "36/36 [==============================] - 1s 15ms/step - loss: 0.7502 - accuracy: 0.6948 - val_loss: 0.8259 - val_accuracy: 0.7031\n",
            "Epoch 313/500\n",
            "36/36 [==============================] - 1s 15ms/step - loss: 0.7439 - accuracy: 0.6922 - val_loss: 0.8770 - val_accuracy: 0.6797\n",
            "Epoch 314/500\n",
            "36/36 [==============================] - 1s 15ms/step - loss: 0.7157 - accuracy: 0.6896 - val_loss: 0.8836 - val_accuracy: 0.6484\n",
            "Epoch 315/500\n",
            "36/36 [==============================] - 1s 15ms/step - loss: 0.7144 - accuracy: 0.7035 - val_loss: 0.8455 - val_accuracy: 0.6797\n",
            "Epoch 316/500\n",
            "36/36 [==============================] - 1s 15ms/step - loss: 0.7005 - accuracy: 0.7026 - val_loss: 0.8638 - val_accuracy: 0.6875\n",
            "Epoch 317/500\n",
            "36/36 [==============================] - 1s 15ms/step - loss: 0.7101 - accuracy: 0.7191 - val_loss: 0.8755 - val_accuracy: 0.6953\n",
            "Epoch 318/500\n",
            "36/36 [==============================] - 1s 15ms/step - loss: 0.7194 - accuracy: 0.7096 - val_loss: 0.8569 - val_accuracy: 0.6719\n",
            "Epoch 319/500\n",
            "36/36 [==============================] - 1s 15ms/step - loss: 0.6891 - accuracy: 0.7017 - val_loss: 0.8423 - val_accuracy: 0.6641\n",
            "Epoch 320/500\n",
            "36/36 [==============================] - 1s 15ms/step - loss: 0.6983 - accuracy: 0.7278 - val_loss: 0.8512 - val_accuracy: 0.6562\n",
            "Epoch 321/500\n",
            "36/36 [==============================] - 1s 15ms/step - loss: 0.6971 - accuracy: 0.7183 - val_loss: 0.8501 - val_accuracy: 0.6641\n",
            "Epoch 322/500\n",
            "36/36 [==============================] - 1s 15ms/step - loss: 0.7267 - accuracy: 0.6939 - val_loss: 0.8694 - val_accuracy: 0.7109\n",
            "Epoch 323/500\n",
            "36/36 [==============================] - 1s 15ms/step - loss: 0.6862 - accuracy: 0.7217 - val_loss: 0.8216 - val_accuracy: 0.6875\n",
            "Epoch 324/500\n",
            "36/36 [==============================] - 1s 15ms/step - loss: 0.6887 - accuracy: 0.7183 - val_loss: 0.8926 - val_accuracy: 0.6641\n",
            "Epoch 325/500\n",
            "36/36 [==============================] - 1s 15ms/step - loss: 0.6818 - accuracy: 0.7252 - val_loss: 0.8457 - val_accuracy: 0.7344\n",
            "Epoch 326/500\n",
            "36/36 [==============================] - 1s 15ms/step - loss: 0.7435 - accuracy: 0.6983 - val_loss: 0.8410 - val_accuracy: 0.6953\n",
            "Epoch 327/500\n",
            "36/36 [==============================] - 1s 15ms/step - loss: 0.6894 - accuracy: 0.7070 - val_loss: 0.8450 - val_accuracy: 0.6953\n",
            "Epoch 328/500\n",
            "36/36 [==============================] - 1s 15ms/step - loss: 0.7073 - accuracy: 0.7252 - val_loss: 0.8338 - val_accuracy: 0.6953\n",
            "Epoch 329/500\n",
            "36/36 [==============================] - 1s 15ms/step - loss: 0.6764 - accuracy: 0.7130 - val_loss: 0.8448 - val_accuracy: 0.6797\n",
            "Epoch 330/500\n",
            "36/36 [==============================] - 1s 15ms/step - loss: 0.6983 - accuracy: 0.7087 - val_loss: 0.8219 - val_accuracy: 0.7188\n",
            "Epoch 331/500\n",
            "36/36 [==============================] - 1s 15ms/step - loss: 0.6687 - accuracy: 0.7252 - val_loss: 0.8439 - val_accuracy: 0.6953\n",
            "Epoch 332/500\n",
            "36/36 [==============================] - 1s 15ms/step - loss: 0.6824 - accuracy: 0.7104 - val_loss: 0.8840 - val_accuracy: 0.6797\n",
            "Epoch 333/500\n",
            "36/36 [==============================] - 1s 16ms/step - loss: 0.6907 - accuracy: 0.7000 - val_loss: 0.8524 - val_accuracy: 0.7109\n",
            "Epoch 334/500\n",
            "36/36 [==============================] - 1s 15ms/step - loss: 0.6724 - accuracy: 0.7217 - val_loss: 0.7921 - val_accuracy: 0.7266\n",
            "Epoch 335/500\n",
            "36/36 [==============================] - 1s 15ms/step - loss: 0.6428 - accuracy: 0.7191 - val_loss: 0.8248 - val_accuracy: 0.7031\n",
            "Epoch 336/500\n",
            "36/36 [==============================] - 1s 15ms/step - loss: 0.6876 - accuracy: 0.7226 - val_loss: 0.8564 - val_accuracy: 0.7344\n",
            "Epoch 337/500\n",
            "36/36 [==============================] - 1s 15ms/step - loss: 0.7186 - accuracy: 0.6930 - val_loss: 0.8269 - val_accuracy: 0.7266\n",
            "Epoch 338/500\n",
            "36/36 [==============================] - 1s 15ms/step - loss: 0.7103 - accuracy: 0.7096 - val_loss: 0.8070 - val_accuracy: 0.7344\n",
            "Epoch 339/500\n",
            "36/36 [==============================] - 1s 15ms/step - loss: 0.6951 - accuracy: 0.7078 - val_loss: 0.8093 - val_accuracy: 0.7031\n",
            "Epoch 340/500\n",
            "36/36 [==============================] - 1s 15ms/step - loss: 0.7101 - accuracy: 0.7026 - val_loss: 0.8411 - val_accuracy: 0.7266\n",
            "Epoch 341/500\n",
            "36/36 [==============================] - 1s 15ms/step - loss: 0.6723 - accuracy: 0.7348 - val_loss: 0.8539 - val_accuracy: 0.6719\n",
            "Epoch 342/500\n",
            "36/36 [==============================] - 1s 15ms/step - loss: 0.6786 - accuracy: 0.7217 - val_loss: 0.8336 - val_accuracy: 0.7188\n",
            "Epoch 343/500\n",
            "36/36 [==============================] - 1s 15ms/step - loss: 0.7030 - accuracy: 0.7113 - val_loss: 0.8266 - val_accuracy: 0.6953\n",
            "Epoch 344/500\n",
            "36/36 [==============================] - 1s 15ms/step - loss: 0.6807 - accuracy: 0.7261 - val_loss: 0.8536 - val_accuracy: 0.7344\n",
            "Epoch 345/500\n",
            "36/36 [==============================] - 1s 15ms/step - loss: 0.6748 - accuracy: 0.7165 - val_loss: 0.8588 - val_accuracy: 0.7109\n",
            "Epoch 346/500\n",
            "36/36 [==============================] - 1s 15ms/step - loss: 0.7027 - accuracy: 0.7113 - val_loss: 0.8667 - val_accuracy: 0.7344\n",
            "Epoch 347/500\n",
            "36/36 [==============================] - 1s 15ms/step - loss: 0.6845 - accuracy: 0.7139 - val_loss: 0.8424 - val_accuracy: 0.6875\n",
            "Epoch 348/500\n",
            "36/36 [==============================] - 1s 15ms/step - loss: 0.7159 - accuracy: 0.7000 - val_loss: 0.8412 - val_accuracy: 0.6641\n",
            "Epoch 349/500\n",
            "36/36 [==============================] - 1s 15ms/step - loss: 0.6909 - accuracy: 0.7087 - val_loss: 0.8034 - val_accuracy: 0.7109\n",
            "Epoch 350/500\n",
            "36/36 [==============================] - 1s 15ms/step - loss: 0.6916 - accuracy: 0.7122 - val_loss: 0.8520 - val_accuracy: 0.6953\n",
            "Epoch 351/500\n",
            "36/36 [==============================] - 1s 15ms/step - loss: 0.7166 - accuracy: 0.7052 - val_loss: 0.8310 - val_accuracy: 0.6719\n",
            "Epoch 352/500\n",
            "36/36 [==============================] - 1s 15ms/step - loss: 0.6421 - accuracy: 0.7278 - val_loss: 0.8485 - val_accuracy: 0.6797\n",
            "Epoch 353/500\n",
            "36/36 [==============================] - 1s 15ms/step - loss: 0.6594 - accuracy: 0.7304 - val_loss: 0.9196 - val_accuracy: 0.6953\n",
            "Epoch 354/500\n",
            "36/36 [==============================] - 1s 15ms/step - loss: 0.6550 - accuracy: 0.7209 - val_loss: 0.9102 - val_accuracy: 0.7031\n",
            "Epoch 355/500\n",
            "36/36 [==============================] - 1s 15ms/step - loss: 0.6823 - accuracy: 0.7157 - val_loss: 0.8669 - val_accuracy: 0.7188\n",
            "Epoch 356/500\n",
            "36/36 [==============================] - 1s 15ms/step - loss: 0.6878 - accuracy: 0.7148 - val_loss: 0.8625 - val_accuracy: 0.6875\n",
            "Epoch 357/500\n",
            "36/36 [==============================] - 1s 15ms/step - loss: 0.6762 - accuracy: 0.7070 - val_loss: 0.8484 - val_accuracy: 0.6875\n",
            "Epoch 358/500\n",
            "36/36 [==============================] - 1s 15ms/step - loss: 0.7003 - accuracy: 0.7070 - val_loss: 0.9027 - val_accuracy: 0.6719\n",
            "Epoch 359/500\n",
            "36/36 [==============================] - 1s 15ms/step - loss: 0.7002 - accuracy: 0.7113 - val_loss: 0.8900 - val_accuracy: 0.6406\n",
            "Epoch 360/500\n",
            "36/36 [==============================] - 1s 15ms/step - loss: 0.6737 - accuracy: 0.7139 - val_loss: 0.8578 - val_accuracy: 0.6719\n",
            "Epoch 361/500\n",
            "36/36 [==============================] - 1s 15ms/step - loss: 0.6599 - accuracy: 0.7252 - val_loss: 0.8350 - val_accuracy: 0.6875\n",
            "Epoch 362/500\n",
            "36/36 [==============================] - 1s 15ms/step - loss: 0.6917 - accuracy: 0.7200 - val_loss: 0.8684 - val_accuracy: 0.7031\n",
            "Epoch 363/500\n",
            "36/36 [==============================] - 1s 15ms/step - loss: 0.6728 - accuracy: 0.7200 - val_loss: 0.8964 - val_accuracy: 0.6641\n",
            "Epoch 364/500\n",
            "36/36 [==============================] - 1s 15ms/step - loss: 0.6708 - accuracy: 0.7165 - val_loss: 0.8424 - val_accuracy: 0.6953\n",
            "Epoch 365/500\n",
            "36/36 [==============================] - 1s 15ms/step - loss: 0.6793 - accuracy: 0.7217 - val_loss: 0.8441 - val_accuracy: 0.6719\n",
            "Epoch 366/500\n",
            "36/36 [==============================] - 1s 15ms/step - loss: 0.6684 - accuracy: 0.7148 - val_loss: 0.9037 - val_accuracy: 0.6719\n",
            "Epoch 367/500\n",
            "36/36 [==============================] - 1s 15ms/step - loss: 0.6686 - accuracy: 0.7426 - val_loss: 0.9643 - val_accuracy: 0.6719\n",
            "Epoch 368/500\n",
            "36/36 [==============================] - 1s 15ms/step - loss: 0.6725 - accuracy: 0.7261 - val_loss: 0.8641 - val_accuracy: 0.6797\n",
            "Epoch 369/500\n",
            "36/36 [==============================] - 1s 15ms/step - loss: 0.6820 - accuracy: 0.7313 - val_loss: 0.8434 - val_accuracy: 0.7109\n",
            "Epoch 370/500\n",
            "36/36 [==============================] - 1s 15ms/step - loss: 0.6633 - accuracy: 0.7330 - val_loss: 0.8679 - val_accuracy: 0.6875\n",
            "Epoch 371/500\n",
            "36/36 [==============================] - 1s 15ms/step - loss: 0.7108 - accuracy: 0.7113 - val_loss: 0.8867 - val_accuracy: 0.6719\n",
            "Epoch 372/500\n",
            "36/36 [==============================] - 1s 15ms/step - loss: 0.7116 - accuracy: 0.7165 - val_loss: 0.8494 - val_accuracy: 0.7188\n",
            "Epoch 373/500\n",
            "36/36 [==============================] - 1s 15ms/step - loss: 0.6452 - accuracy: 0.7330 - val_loss: 0.9148 - val_accuracy: 0.7188\n",
            "Epoch 374/500\n",
            "36/36 [==============================] - 1s 15ms/step - loss: 0.6851 - accuracy: 0.7191 - val_loss: 0.8618 - val_accuracy: 0.7109\n",
            "Epoch 375/500\n",
            "36/36 [==============================] - 1s 15ms/step - loss: 0.6631 - accuracy: 0.7226 - val_loss: 0.8628 - val_accuracy: 0.7031\n",
            "Epoch 376/500\n",
            "36/36 [==============================] - 1s 15ms/step - loss: 0.6579 - accuracy: 0.7383 - val_loss: 0.9108 - val_accuracy: 0.6797\n",
            "Epoch 377/500\n",
            "36/36 [==============================] - 1s 15ms/step - loss: 0.7120 - accuracy: 0.7070 - val_loss: 0.8438 - val_accuracy: 0.7109\n",
            "Epoch 378/500\n",
            "36/36 [==============================] - 1s 15ms/step - loss: 0.6537 - accuracy: 0.7165 - val_loss: 0.8809 - val_accuracy: 0.6641\n",
            "Epoch 379/500\n",
            "36/36 [==============================] - 1s 16ms/step - loss: 0.6593 - accuracy: 0.7339 - val_loss: 0.9182 - val_accuracy: 0.6172\n",
            "Epoch 380/500\n",
            "36/36 [==============================] - 1s 15ms/step - loss: 0.6692 - accuracy: 0.7243 - val_loss: 0.9083 - val_accuracy: 0.6875\n",
            "Epoch 381/500\n",
            "36/36 [==============================] - 1s 15ms/step - loss: 0.6739 - accuracy: 0.7252 - val_loss: 0.8593 - val_accuracy: 0.7266\n",
            "Epoch 382/500\n",
            "36/36 [==============================] - 1s 15ms/step - loss: 0.6415 - accuracy: 0.7374 - val_loss: 0.8927 - val_accuracy: 0.6875\n",
            "Epoch 383/500\n",
            "36/36 [==============================] - 1s 15ms/step - loss: 0.6451 - accuracy: 0.7409 - val_loss: 0.9592 - val_accuracy: 0.6875\n",
            "Epoch 384/500\n",
            "36/36 [==============================] - 1s 15ms/step - loss: 0.6590 - accuracy: 0.7313 - val_loss: 0.8846 - val_accuracy: 0.6719\n",
            "Epoch 385/500\n",
            "36/36 [==============================] - 1s 15ms/step - loss: 0.6383 - accuracy: 0.7443 - val_loss: 0.8755 - val_accuracy: 0.7109\n",
            "Epoch 386/500\n",
            "36/36 [==============================] - 1s 15ms/step - loss: 0.6761 - accuracy: 0.7191 - val_loss: 0.9028 - val_accuracy: 0.6875\n",
            "Epoch 387/500\n",
            "36/36 [==============================] - 1s 15ms/step - loss: 0.6907 - accuracy: 0.7243 - val_loss: 0.8772 - val_accuracy: 0.6875\n",
            "Epoch 388/500\n",
            "36/36 [==============================] - 1s 17ms/step - loss: 0.6545 - accuracy: 0.7252 - val_loss: 0.8355 - val_accuracy: 0.6875\n",
            "Epoch 389/500\n",
            "36/36 [==============================] - 1s 15ms/step - loss: 0.6748 - accuracy: 0.7183 - val_loss: 0.8682 - val_accuracy: 0.6641\n",
            "Epoch 390/500\n",
            "36/36 [==============================] - 1s 15ms/step - loss: 0.6416 - accuracy: 0.7461 - val_loss: 0.8945 - val_accuracy: 0.6797\n",
            "Epoch 391/500\n",
            "36/36 [==============================] - 1s 15ms/step - loss: 0.6609 - accuracy: 0.7365 - val_loss: 0.8544 - val_accuracy: 0.6719\n",
            "Epoch 392/500\n",
            "36/36 [==============================] - 1s 15ms/step - loss: 0.6550 - accuracy: 0.7313 - val_loss: 0.8825 - val_accuracy: 0.6484\n",
            "Epoch 393/500\n",
            "36/36 [==============================] - 1s 15ms/step - loss: 0.6431 - accuracy: 0.7348 - val_loss: 0.9165 - val_accuracy: 0.7188\n",
            "Epoch 394/500\n",
            "36/36 [==============================] - 1s 15ms/step - loss: 0.6464 - accuracy: 0.7409 - val_loss: 0.9375 - val_accuracy: 0.6797\n",
            "Epoch 395/500\n",
            "36/36 [==============================] - 1s 15ms/step - loss: 0.6516 - accuracy: 0.7470 - val_loss: 0.8574 - val_accuracy: 0.6953\n",
            "Epoch 396/500\n",
            "36/36 [==============================] - 1s 15ms/step - loss: 0.6385 - accuracy: 0.7296 - val_loss: 0.8894 - val_accuracy: 0.7031\n",
            "Epoch 397/500\n",
            "36/36 [==============================] - 1s 15ms/step - loss: 0.6704 - accuracy: 0.7322 - val_loss: 0.8629 - val_accuracy: 0.6406\n",
            "Epoch 398/500\n",
            "36/36 [==============================] - 1s 15ms/step - loss: 0.6681 - accuracy: 0.7252 - val_loss: 0.8621 - val_accuracy: 0.7188\n",
            "Epoch 399/500\n",
            "36/36 [==============================] - 1s 15ms/step - loss: 0.6628 - accuracy: 0.7243 - val_loss: 0.8547 - val_accuracy: 0.7188\n",
            "Epoch 400/500\n",
            "36/36 [==============================] - 1s 15ms/step - loss: 0.6529 - accuracy: 0.7304 - val_loss: 0.8776 - val_accuracy: 0.6641\n",
            "Epoch 401/500\n",
            "36/36 [==============================] - 1s 15ms/step - loss: 0.6547 - accuracy: 0.7304 - val_loss: 0.8670 - val_accuracy: 0.7031\n",
            "Epoch 402/500\n",
            "36/36 [==============================] - 1s 15ms/step - loss: 0.6193 - accuracy: 0.7539 - val_loss: 0.8505 - val_accuracy: 0.7188\n",
            "Epoch 403/500\n",
            "36/36 [==============================] - 1s 15ms/step - loss: 0.6608 - accuracy: 0.7296 - val_loss: 0.8309 - val_accuracy: 0.7188\n",
            "Epoch 404/500\n",
            "36/36 [==============================] - 1s 16ms/step - loss: 0.7064 - accuracy: 0.7017 - val_loss: 0.8445 - val_accuracy: 0.6719\n",
            "Epoch 405/500\n",
            "36/36 [==============================] - 1s 15ms/step - loss: 0.6647 - accuracy: 0.7261 - val_loss: 0.9404 - val_accuracy: 0.6797\n",
            "Epoch 406/500\n",
            "36/36 [==============================] - 1s 15ms/step - loss: 0.6383 - accuracy: 0.7409 - val_loss: 0.8620 - val_accuracy: 0.7031\n",
            "Epoch 407/500\n",
            "36/36 [==============================] - 1s 15ms/step - loss: 0.6583 - accuracy: 0.7348 - val_loss: 0.8636 - val_accuracy: 0.6562\n",
            "Epoch 408/500\n",
            "36/36 [==============================] - 1s 15ms/step - loss: 0.6729 - accuracy: 0.7209 - val_loss: 0.8600 - val_accuracy: 0.7266\n",
            "Epoch 409/500\n",
            "36/36 [==============================] - 1s 15ms/step - loss: 0.6682 - accuracy: 0.7200 - val_loss: 0.8598 - val_accuracy: 0.7188\n",
            "Epoch 410/500\n",
            "36/36 [==============================] - 1s 15ms/step - loss: 0.6535 - accuracy: 0.7496 - val_loss: 0.8619 - val_accuracy: 0.6406\n",
            "Epoch 411/500\n",
            "36/36 [==============================] - 1s 15ms/step - loss: 0.6791 - accuracy: 0.7200 - val_loss: 0.8436 - val_accuracy: 0.6797\n",
            "Epoch 412/500\n",
            "36/36 [==============================] - 1s 15ms/step - loss: 0.6756 - accuracy: 0.7165 - val_loss: 0.8809 - val_accuracy: 0.6953\n",
            "Epoch 413/500\n",
            "36/36 [==============================] - 1s 15ms/step - loss: 0.6770 - accuracy: 0.7200 - val_loss: 0.8504 - val_accuracy: 0.7031\n",
            "Epoch 414/500\n",
            "36/36 [==============================] - 1s 15ms/step - loss: 0.6530 - accuracy: 0.7383 - val_loss: 0.8370 - val_accuracy: 0.7266\n",
            "Epoch 415/500\n",
            "36/36 [==============================] - 1s 15ms/step - loss: 0.6618 - accuracy: 0.7183 - val_loss: 0.8681 - val_accuracy: 0.7031\n",
            "Epoch 416/500\n",
            "36/36 [==============================] - 1s 15ms/step - loss: 0.6173 - accuracy: 0.7574 - val_loss: 0.8344 - val_accuracy: 0.7188\n",
            "Epoch 417/500\n",
            "36/36 [==============================] - 1s 15ms/step - loss: 0.6396 - accuracy: 0.7157 - val_loss: 0.8562 - val_accuracy: 0.6875\n",
            "Epoch 418/500\n",
            "36/36 [==============================] - 1s 15ms/step - loss: 0.6426 - accuracy: 0.7478 - val_loss: 0.8448 - val_accuracy: 0.6875\n",
            "Epoch 419/500\n",
            "36/36 [==============================] - 1s 15ms/step - loss: 0.6117 - accuracy: 0.7583 - val_loss: 0.8821 - val_accuracy: 0.6797\n",
            "Epoch 420/500\n",
            "36/36 [==============================] - 1s 15ms/step - loss: 0.6529 - accuracy: 0.7496 - val_loss: 0.8952 - val_accuracy: 0.7031\n",
            "Epoch 421/500\n",
            "36/36 [==============================] - 1s 15ms/step - loss: 0.6528 - accuracy: 0.7530 - val_loss: 0.8488 - val_accuracy: 0.7109\n",
            "Epoch 422/500\n",
            "36/36 [==============================] - 1s 15ms/step - loss: 0.6698 - accuracy: 0.7348 - val_loss: 0.8338 - val_accuracy: 0.6797\n",
            "Epoch 423/500\n",
            "36/36 [==============================] - 1s 15ms/step - loss: 0.6546 - accuracy: 0.7278 - val_loss: 0.8379 - val_accuracy: 0.7344\n",
            "Epoch 424/500\n",
            "36/36 [==============================] - 1s 16ms/step - loss: 0.6380 - accuracy: 0.7383 - val_loss: 0.8590 - val_accuracy: 0.7109\n",
            "Epoch 425/500\n",
            "36/36 [==============================] - 1s 15ms/step - loss: 0.6280 - accuracy: 0.7565 - val_loss: 0.8512 - val_accuracy: 0.7031\n",
            "Epoch 426/500\n",
            "36/36 [==============================] - 1s 15ms/step - loss: 0.6559 - accuracy: 0.7296 - val_loss: 0.8438 - val_accuracy: 0.7188\n",
            "Epoch 427/500\n",
            "36/36 [==============================] - 1s 15ms/step - loss: 0.6460 - accuracy: 0.7330 - val_loss: 0.8310 - val_accuracy: 0.7031\n",
            "Epoch 428/500\n",
            "36/36 [==============================] - 1s 15ms/step - loss: 0.6233 - accuracy: 0.7609 - val_loss: 0.9026 - val_accuracy: 0.6875\n",
            "Epoch 429/500\n",
            "36/36 [==============================] - 1s 15ms/step - loss: 0.6420 - accuracy: 0.7322 - val_loss: 0.8826 - val_accuracy: 0.6875\n",
            "Epoch 430/500\n",
            "36/36 [==============================] - 1s 15ms/step - loss: 0.6533 - accuracy: 0.7400 - val_loss: 0.9150 - val_accuracy: 0.7266\n",
            "Epoch 431/500\n",
            "36/36 [==============================] - 1s 15ms/step - loss: 0.6703 - accuracy: 0.7391 - val_loss: 0.8928 - val_accuracy: 0.7109\n",
            "Epoch 432/500\n",
            "36/36 [==============================] - 1s 15ms/step - loss: 0.6578 - accuracy: 0.7330 - val_loss: 0.8927 - val_accuracy: 0.7109\n",
            "Epoch 433/500\n",
            "36/36 [==============================] - 1s 16ms/step - loss: 0.6165 - accuracy: 0.7513 - val_loss: 0.8909 - val_accuracy: 0.6875\n",
            "Epoch 434/500\n",
            "36/36 [==============================] - 1s 15ms/step - loss: 0.6453 - accuracy: 0.7443 - val_loss: 0.8640 - val_accuracy: 0.7188\n",
            "Epoch 435/500\n",
            "36/36 [==============================] - 1s 15ms/step - loss: 0.6212 - accuracy: 0.7261 - val_loss: 0.9146 - val_accuracy: 0.6641\n",
            "Epoch 436/500\n",
            "36/36 [==============================] - 1s 15ms/step - loss: 0.6412 - accuracy: 0.7417 - val_loss: 0.8601 - val_accuracy: 0.7031\n",
            "Epoch 437/500\n",
            "36/36 [==============================] - 1s 15ms/step - loss: 0.6595 - accuracy: 0.7365 - val_loss: 0.8324 - val_accuracy: 0.7031\n",
            "Epoch 438/500\n",
            "36/36 [==============================] - 1s 15ms/step - loss: 0.6607 - accuracy: 0.7391 - val_loss: 0.8396 - val_accuracy: 0.6953\n",
            "Epoch 439/500\n",
            "36/36 [==============================] - 1s 15ms/step - loss: 0.6140 - accuracy: 0.7496 - val_loss: 0.8632 - val_accuracy: 0.6875\n",
            "Epoch 440/500\n",
            "36/36 [==============================] - 1s 16ms/step - loss: 0.6675 - accuracy: 0.7417 - val_loss: 0.8416 - val_accuracy: 0.7031\n",
            "Epoch 441/500\n",
            "36/36 [==============================] - 1s 15ms/step - loss: 0.6001 - accuracy: 0.7765 - val_loss: 0.8764 - val_accuracy: 0.6953\n",
            "Epoch 442/500\n",
            "36/36 [==============================] - 1s 16ms/step - loss: 0.6691 - accuracy: 0.7287 - val_loss: 0.8743 - val_accuracy: 0.7031\n",
            "Epoch 443/500\n",
            "36/36 [==============================] - 1s 15ms/step - loss: 0.6811 - accuracy: 0.7217 - val_loss: 0.8792 - val_accuracy: 0.6953\n",
            "Epoch 444/500\n",
            "36/36 [==============================] - 1s 15ms/step - loss: 0.6317 - accuracy: 0.7409 - val_loss: 0.9028 - val_accuracy: 0.6953\n",
            "Epoch 445/500\n",
            "36/36 [==============================] - 1s 15ms/step - loss: 0.6186 - accuracy: 0.7530 - val_loss: 0.8679 - val_accuracy: 0.6953\n",
            "Epoch 446/500\n",
            "36/36 [==============================] - 1s 15ms/step - loss: 0.6825 - accuracy: 0.7243 - val_loss: 0.8767 - val_accuracy: 0.6719\n",
            "Epoch 447/500\n",
            "36/36 [==============================] - 1s 15ms/step - loss: 0.5940 - accuracy: 0.7600 - val_loss: 0.8423 - val_accuracy: 0.6953\n",
            "Epoch 448/500\n",
            "36/36 [==============================] - 1s 15ms/step - loss: 0.6661 - accuracy: 0.7339 - val_loss: 0.8339 - val_accuracy: 0.7188\n",
            "Epoch 449/500\n",
            "36/36 [==============================] - 1s 15ms/step - loss: 0.6426 - accuracy: 0.7452 - val_loss: 0.8524 - val_accuracy: 0.6484\n",
            "Epoch 450/500\n",
            "36/36 [==============================] - 1s 15ms/step - loss: 0.6252 - accuracy: 0.7400 - val_loss: 0.8797 - val_accuracy: 0.7031\n",
            "Epoch 451/500\n",
            "36/36 [==============================] - 1s 16ms/step - loss: 0.6644 - accuracy: 0.7217 - val_loss: 0.8477 - val_accuracy: 0.7344\n",
            "Epoch 452/500\n",
            "36/36 [==============================] - 1s 15ms/step - loss: 0.6598 - accuracy: 0.7296 - val_loss: 0.8806 - val_accuracy: 0.7109\n",
            "Epoch 453/500\n",
            "36/36 [==============================] - 1s 15ms/step - loss: 0.6473 - accuracy: 0.7278 - val_loss: 0.8740 - val_accuracy: 0.6719\n",
            "Epoch 454/500\n",
            "36/36 [==============================] - 1s 15ms/step - loss: 0.5964 - accuracy: 0.7565 - val_loss: 0.8935 - val_accuracy: 0.6875\n",
            "Epoch 455/500\n",
            "36/36 [==============================] - 1s 15ms/step - loss: 0.6355 - accuracy: 0.7313 - val_loss: 0.8536 - val_accuracy: 0.6797\n",
            "Epoch 456/500\n",
            "36/36 [==============================] - 1s 15ms/step - loss: 0.6239 - accuracy: 0.7652 - val_loss: 0.8395 - val_accuracy: 0.7109\n",
            "Epoch 457/500\n",
            "36/36 [==============================] - 1s 15ms/step - loss: 0.6330 - accuracy: 0.7504 - val_loss: 0.8412 - val_accuracy: 0.6875\n",
            "Epoch 458/500\n",
            "36/36 [==============================] - 1s 15ms/step - loss: 0.6170 - accuracy: 0.7522 - val_loss: 0.8448 - val_accuracy: 0.6641\n",
            "Epoch 459/500\n",
            "36/36 [==============================] - 1s 15ms/step - loss: 0.6234 - accuracy: 0.7461 - val_loss: 0.8928 - val_accuracy: 0.7031\n",
            "Epoch 460/500\n",
            "36/36 [==============================] - 1s 15ms/step - loss: 0.5922 - accuracy: 0.7600 - val_loss: 0.9293 - val_accuracy: 0.7031\n",
            "Epoch 461/500\n",
            "36/36 [==============================] - 1s 15ms/step - loss: 0.6243 - accuracy: 0.7557 - val_loss: 0.8630 - val_accuracy: 0.7031\n",
            "Epoch 462/500\n",
            "36/36 [==============================] - 1s 15ms/step - loss: 0.6439 - accuracy: 0.7304 - val_loss: 0.8400 - val_accuracy: 0.6797\n",
            "Epoch 463/500\n",
            "36/36 [==============================] - 1s 15ms/step - loss: 0.5825 - accuracy: 0.7609 - val_loss: 0.8664 - val_accuracy: 0.7188\n",
            "Epoch 464/500\n",
            "36/36 [==============================] - 1s 15ms/step - loss: 0.6186 - accuracy: 0.7391 - val_loss: 0.8601 - val_accuracy: 0.7031\n",
            "Epoch 465/500\n",
            "36/36 [==============================] - 1s 15ms/step - loss: 0.6072 - accuracy: 0.7609 - val_loss: 0.9047 - val_accuracy: 0.7031\n",
            "Epoch 466/500\n",
            "36/36 [==============================] - 1s 15ms/step - loss: 0.6064 - accuracy: 0.7557 - val_loss: 0.9508 - val_accuracy: 0.7266\n",
            "Epoch 467/500\n",
            "36/36 [==============================] - 1s 15ms/step - loss: 0.6390 - accuracy: 0.7400 - val_loss: 0.8682 - val_accuracy: 0.7031\n",
            "Epoch 468/500\n",
            "36/36 [==============================] - 1s 15ms/step - loss: 0.5912 - accuracy: 0.7783 - val_loss: 0.8762 - val_accuracy: 0.7031\n",
            "Epoch 469/500\n",
            "36/36 [==============================] - 1s 15ms/step - loss: 0.6010 - accuracy: 0.7400 - val_loss: 0.8682 - val_accuracy: 0.7188\n",
            "Epoch 470/500\n",
            "36/36 [==============================] - 1s 15ms/step - loss: 0.6371 - accuracy: 0.7409 - val_loss: 0.8777 - val_accuracy: 0.7188\n",
            "Epoch 471/500\n",
            "36/36 [==============================] - 1s 16ms/step - loss: 0.6701 - accuracy: 0.7313 - val_loss: 0.8344 - val_accuracy: 0.7188\n",
            "Epoch 472/500\n",
            "36/36 [==============================] - 1s 15ms/step - loss: 0.6477 - accuracy: 0.7330 - val_loss: 0.8748 - val_accuracy: 0.7188\n",
            "Epoch 473/500\n",
            "36/36 [==============================] - 1s 15ms/step - loss: 0.6506 - accuracy: 0.7348 - val_loss: 0.8294 - val_accuracy: 0.7188\n",
            "Epoch 474/500\n",
            "36/36 [==============================] - 1s 15ms/step - loss: 0.6456 - accuracy: 0.7330 - val_loss: 0.8422 - val_accuracy: 0.7344\n",
            "Epoch 475/500\n",
            "36/36 [==============================] - 1s 15ms/step - loss: 0.6005 - accuracy: 0.7504 - val_loss: 0.8730 - val_accuracy: 0.6953\n",
            "Epoch 476/500\n",
            "36/36 [==============================] - 1s 15ms/step - loss: 0.6377 - accuracy: 0.7461 - val_loss: 0.8366 - val_accuracy: 0.7188\n",
            "Epoch 477/500\n",
            "36/36 [==============================] - 1s 15ms/step - loss: 0.5992 - accuracy: 0.7609 - val_loss: 0.8592 - val_accuracy: 0.7031\n",
            "Epoch 478/500\n",
            "36/36 [==============================] - 1s 15ms/step - loss: 0.6603 - accuracy: 0.7209 - val_loss: 0.8824 - val_accuracy: 0.7109\n",
            "Epoch 479/500\n",
            "36/36 [==============================] - 1s 15ms/step - loss: 0.6038 - accuracy: 0.7574 - val_loss: 0.8789 - val_accuracy: 0.7031\n",
            "Epoch 480/500\n",
            "36/36 [==============================] - 1s 15ms/step - loss: 0.6407 - accuracy: 0.7357 - val_loss: 0.8729 - val_accuracy: 0.7188\n",
            "Epoch 481/500\n",
            "36/36 [==============================] - 1s 15ms/step - loss: 0.6034 - accuracy: 0.7365 - val_loss: 0.8817 - val_accuracy: 0.7109\n",
            "Epoch 482/500\n",
            "36/36 [==============================] - 1s 15ms/step - loss: 0.6127 - accuracy: 0.7591 - val_loss: 0.8665 - val_accuracy: 0.7031\n",
            "Epoch 483/500\n",
            "36/36 [==============================] - 1s 15ms/step - loss: 0.6646 - accuracy: 0.7330 - val_loss: 0.8945 - val_accuracy: 0.6875\n",
            "Epoch 484/500\n",
            "36/36 [==============================] - 1s 16ms/step - loss: 0.6297 - accuracy: 0.7513 - val_loss: 0.8838 - val_accuracy: 0.6875\n",
            "Epoch 485/500\n",
            "36/36 [==============================] - 1s 15ms/step - loss: 0.5973 - accuracy: 0.7635 - val_loss: 0.8719 - val_accuracy: 0.7422\n",
            "Epoch 486/500\n",
            "36/36 [==============================] - 1s 15ms/step - loss: 0.5895 - accuracy: 0.7722 - val_loss: 0.8831 - val_accuracy: 0.7188\n",
            "Epoch 487/500\n",
            "36/36 [==============================] - 1s 16ms/step - loss: 0.6331 - accuracy: 0.7339 - val_loss: 0.8808 - val_accuracy: 0.6953\n",
            "Epoch 488/500\n",
            "36/36 [==============================] - 1s 15ms/step - loss: 0.6283 - accuracy: 0.7322 - val_loss: 0.8665 - val_accuracy: 0.7109\n",
            "Epoch 489/500\n",
            "36/36 [==============================] - 1s 15ms/step - loss: 0.6527 - accuracy: 0.7348 - val_loss: 0.8231 - val_accuracy: 0.7344\n",
            "Epoch 490/500\n",
            "36/36 [==============================] - 1s 15ms/step - loss: 0.6796 - accuracy: 0.7096 - val_loss: 0.8622 - val_accuracy: 0.7109\n",
            "Epoch 491/500\n",
            "36/36 [==============================] - 1s 15ms/step - loss: 0.6349 - accuracy: 0.7365 - val_loss: 0.8766 - val_accuracy: 0.6953\n",
            "Epoch 492/500\n",
            "36/36 [==============================] - 1s 15ms/step - loss: 0.6803 - accuracy: 0.7209 - val_loss: 0.8996 - val_accuracy: 0.6953\n",
            "Epoch 493/500\n",
            "36/36 [==============================] - 1s 15ms/step - loss: 0.6163 - accuracy: 0.7470 - val_loss: 0.8626 - val_accuracy: 0.7266\n",
            "Epoch 494/500\n",
            "36/36 [==============================] - 1s 15ms/step - loss: 0.5960 - accuracy: 0.7600 - val_loss: 0.8568 - val_accuracy: 0.7188\n",
            "Epoch 495/500\n",
            "36/36 [==============================] - 1s 15ms/step - loss: 0.6518 - accuracy: 0.7313 - val_loss: 0.9185 - val_accuracy: 0.6797\n",
            "Epoch 496/500\n",
            "36/36 [==============================] - 1s 15ms/step - loss: 0.6000 - accuracy: 0.7548 - val_loss: 0.8859 - val_accuracy: 0.7031\n",
            "Epoch 497/500\n",
            "36/36 [==============================] - 1s 16ms/step - loss: 0.5821 - accuracy: 0.7643 - val_loss: 0.8983 - val_accuracy: 0.6562\n",
            "Epoch 498/500\n",
            "36/36 [==============================] - 1s 15ms/step - loss: 0.6217 - accuracy: 0.7365 - val_loss: 0.8622 - val_accuracy: 0.7031\n",
            "Epoch 499/500\n",
            "36/36 [==============================] - 1s 15ms/step - loss: 0.5877 - accuracy: 0.7643 - val_loss: 0.9026 - val_accuracy: 0.7188\n",
            "Epoch 500/500\n",
            "36/36 [==============================] - 1s 15ms/step - loss: 0.6060 - accuracy: 0.7487 - val_loss: 0.8794 - val_accuracy: 0.6953\n"
          ]
        }
      ]
    },
    {
      "cell_type": "code",
      "source": [
        "model.save('content/model.h5')"
      ],
      "metadata": {
        "id": "DlQdgNGSaXyE"
      },
      "execution_count": 100,
      "outputs": []
    },
    {
      "cell_type": "code",
      "source": [
        "y_pred = model.predict(x_test)"
      ],
      "metadata": {
        "id": "efjpQIgHyZNm"
      },
      "execution_count": 101,
      "outputs": []
    },
    {
      "cell_type": "code",
      "source": [
        "y_pred = np.argmax(y_pred, axis=1)"
      ],
      "metadata": {
        "id": "W_Q4ReRMyhhz"
      },
      "execution_count": 102,
      "outputs": []
    },
    {
      "cell_type": "code",
      "source": [
        "y_test.shape"
      ],
      "metadata": {
        "colab": {
          "base_uri": "https://localhost:8080/"
        },
        "id": "0hRifMlX7dbj",
        "outputId": "56210a6f-daa6-452d-c6c3-a38d6af1b43b"
      },
      "execution_count": 103,
      "outputs": [
        {
          "output_type": "execute_result",
          "data": {
            "text/plain": [
              "(226,)"
            ]
          },
          "metadata": {},
          "execution_count": 103
        }
      ]
    },
    {
      "cell_type": "code",
      "source": [
        "y_pred.shape"
      ],
      "metadata": {
        "colab": {
          "base_uri": "https://localhost:8080/"
        },
        "id": "26K0yrCN3SW3",
        "outputId": "4be57063-ad2a-4f50-b85b-891e043d46d8"
      },
      "execution_count": 104,
      "outputs": [
        {
          "output_type": "execute_result",
          "data": {
            "text/plain": [
              "(226,)"
            ]
          },
          "metadata": {},
          "execution_count": 104
        }
      ]
    },
    {
      "cell_type": "code",
      "source": [
        "from sklearn.metrics import accuracy_score\n",
        "print(accuracy_score(y_test, y_pred))"
      ],
      "metadata": {
        "colab": {
          "base_uri": "https://localhost:8080/"
        },
        "id": "CCIGw8W1ybp1",
        "outputId": "47540ae3-a664-4653-a70b-3a559c20d391"
      },
      "execution_count": 105,
      "outputs": [
        {
          "output_type": "stream",
          "name": "stdout",
          "text": [
            "0.6061946902654868\n"
          ]
        }
      ]
    },
    {
      "cell_type": "code",
      "source": [
        "plt.plot(history.history['accuracy'])\n",
        "plt.plot(history.history['val_accuracy'])\n",
        "plt.legend(['Acc', 'Val Acc'])"
      ],
      "metadata": {
        "colab": {
          "base_uri": "https://localhost:8080/",
          "height": 284
        },
        "id": "Nuoy2MnqaihP",
        "outputId": "3ef3423e-4ba5-49e4-d65b-7528d83d34f2"
      },
      "execution_count": 106,
      "outputs": [
        {
          "output_type": "execute_result",
          "data": {
            "text/plain": [
              "<matplotlib.legend.Legend at 0x7ff1a4033450>"
            ]
          },
          "metadata": {},
          "execution_count": 106
        },
        {
          "output_type": "display_data",
          "data": {
            "text/plain": [
              "<Figure size 432x288 with 1 Axes>"
            ],
            "image/png": "[encoded data removed]"
          },
          "metadata": {
            "needs_background": "light"
          }
        }
      ]
    },
    {
      "cell_type": "code",
      "source": [
        "plt.plot(history.history['loss'])\n",
        "plt.plot(history.history['val_loss'])\n",
        "plt.legend(['Loss', 'Val Loss'])"
      ],
      "metadata": {
        "colab": {
          "base_uri": "https://localhost:8080/",
          "height": 282
        },
        "id": "UhEFvx74lf3S",
        "outputId": "a5f62c70-2023-480e-e54d-d575f9d53930"
      },
      "execution_count": 107,
      "outputs": [
        {
          "output_type": "execute_result",
          "data": {
            "text/plain": [
              "<matplotlib.legend.Legend at 0x7ff1a40d0410>"
            ]
          },
          "metadata": {},
          "execution_count": 107
        },
        {
          "output_type": "display_data",
          "data": {
            "text/plain": [
              "<Figure size 432x288 with 1 Axes>"
            ],
            "image/png": "[encoded data removed]"
          },
          "metadata": {
            "needs_background": "light"
          }
        }
      ]
    }
  ]
}