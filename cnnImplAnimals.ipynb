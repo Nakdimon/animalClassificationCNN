{
  "nbformat": 4,
  "nbformat_minor": 0,
  "metadata": {
    "colab": {
      "name": "cnnImplAnimals.ipynb",
      "provenance": [],
      "collapsed_sections": [],
      "machine_shape": "hm",
      "authorship_tag": "ABX9TyMJ05NFuY3xORp+GwdzcZIA",
      "include_colab_link": true
    },
    "kernelspec": {
      "name": "python3",
      "display_name": "Python 3"
    },
    "language_info": {
      "name": "python"
    },
    "accelerator": "GPU",
    "gpuClass": "standard"
  },
  "cells": [
    {
      "cell_type": "markdown",
      "metadata": {
        "id": "view-in-github",
        "colab_type": "text"
      },
      "source": [
        "<a href=\"https://colab.research.google.com/github/Nakdimon/animalClassificationCNN/blob/main/cnnImplAnimals.ipynb\" target=\"_parent\"><img src=\"https://colab.research.google.com/assets/colab-badge.svg\" alt=\"Open In Colab\"/></a>"
      ]
    },
    {
      "cell_type": "code",
      "execution_count": 16,
      "metadata": {
        "id": "dtVsiy1_uzr3"
      },
      "outputs": [],
      "source": [
        "import tensorflow as tf\n",
        "import pandas as pd\n",
        "import numpy as np\n",
        "from sklearn.utils import shuffle\n",
        "from sklearn.model_selection import train_test_split\n",
        "from tensorflow.keras.utils import to_categorical\n",
        "from tensorflow.keras.models import Sequential\n",
        "from tensorflow.keras.layers import Dense, Dropout, Activation, Flatten, Conv2D, MaxPooling2D, InputLayer, BatchNormalization\n",
        "from keras_preprocessing.image import ImageDataGenerator\n",
        "from skimage.io import imread_collection\n",
        "from skimage import io, color\n",
        "from skimage.transform import resize\n",
        "from matplotlib import pyplot as plt"
      ]
    },
    {
      "cell_type": "code",
      "source": [
        "# Connecting to google drive\n",
        "from google.colab import drive\n",
        "drive.mount('/content/drive')"
      ],
      "metadata": {
        "colab": {
          "base_uri": "https://localhost:8080/"
        },
        "id": "dBn5g7SbT9jV",
        "outputId": "a6a7ed4c-7931-42d6-b84d-e9f20702e600"
      },
      "execution_count": 2,
      "outputs": [
        {
          "output_type": "stream",
          "name": "stdout",
          "text": [
            "Mounted at /content/drive\n"
          ]
        }
      ]
    },
    {
      "cell_type": "code",
      "source": [
        "# Collecting Images\n",
        "zebraImages = imread_collection('/content/drive/MyDrive/dataset1/zebra/*.*')\n",
        "buffaloImages = imread_collection('/content/drive/MyDrive/dataset1/buffalo/*.*')\n",
        "elephantImages = imread_collection('/content/drive/MyDrive/dataset1/elephant/*.*')\n",
        "rhinoImages = imread_collection('/content/drive/MyDrive/dataset1/rhino/*.*')"
      ],
      "metadata": {
        "id": "NX5x8tC1VzxM"
      },
      "execution_count": 15,
      "outputs": []
    },
    {
      "cell_type": "code",
      "source": [
        "# Implementing Resizer\n",
        "def collectionResize(collection):\n",
        "  resized = []\n",
        "  for image in collection:\n",
        "    resized.append(resize(image, (32, 32)))\n",
        "  \n",
        "  return resized"
      ],
      "metadata": {
        "id": "GiUqD0qJY3w4"
      },
      "execution_count": 37,
      "outputs": []
    },
    {
      "cell_type": "code",
      "source": [
        "#resizing images to 224X224\n",
        "rZebraImages = collectionResize(zebraImages)\n",
        "rBuffaloImages = collectionResize(buffaloImages)\n",
        "rElephantImages = collectionResize(elephantImages)\n",
        "rRhinoImages = collectionResize(rhinoImages)"
      ],
      "metadata": {
        "id": "PN7XSWvNasZM"
      },
      "execution_count": null,
      "outputs": []
    },
    {
      "cell_type": "code",
      "source": [
        "io.imshow(rRhinoImages[7])\n",
        "plt.show()"
      ],
      "metadata": {
        "id": "-VbI7K2FWizv"
      },
      "execution_count": null,
      "outputs": []
    },
    {
      "cell_type": "code",
      "source": [
        "# Defining class labels\n",
        "\n",
        "ZEBRA_LABEL = 0\n",
        "BUFFALO_LABEL = 1\n",
        "ELEPHANT_LABEL = 2\n",
        "RHINO_LABEL = 3"
      ],
      "metadata": {
        "id": "V5Tku-M2egwH"
      },
      "execution_count": null,
      "outputs": []
    },
    {
      "cell_type": "code",
      "source": [
        "# Converting to nparray\n",
        "rZebraImages = np.array(rZebraImages)\n",
        "rBuffaloImages = np.array(rBuffaloImages)\n",
        "rElephantImages = np.array(rElephantImages)\n",
        "rRhinoImages = np.array(rRhinoImages)"
      ],
      "metadata": {
        "id": "yd_MEqY8fASB"
      },
      "execution_count": null,
      "outputs": []
    },
    {
      "cell_type": "code",
      "source": [
        "X = np.concatenate((rZebraImages, rBuffaloImages, rElephantImages, rRhinoImages))\n",
        "X.shape"
      ],
      "metadata": {
        "id": "A-DvQHKsfAQN"
      },
      "execution_count": null,
      "outputs": []
    },
    {
      "cell_type": "code",
      "source": [
        "X = X / 255"
      ],
      "metadata": {
        "id": "9fDO5k0BvEZK"
      },
      "execution_count": 166,
      "outputs": []
    },
    {
      "cell_type": "code",
      "source": [
        "y = (np.concatenate((np.full((376, 1), 0),np.full((376, 1), 1), np.full((376, 1), 2), np.full((376, 1), 3)))).flatten()\n",
        "y.shape"
      ],
      "metadata": {
        "id": "_WGZANe5jXu7"
      },
      "execution_count": null,
      "outputs": []
    },
    {
      "cell_type": "code",
      "source": [
        "x_train,x_test,y_train,y_test = train_test_split(X,y,test_size=0.15,random_state=0, stratify=y)\n",
        "x_train,x_val,y_train,y_val = train_test_split(x_train,y_train,test_size=0.1,random_state=0)"
      ],
      "metadata": {
        "id": "l0ASy1watqcj"
      },
      "execution_count": null,
      "outputs": []
    },
    {
      "cell_type": "code",
      "source": [
        "x_train.shape"
      ],
      "metadata": {
        "id": "rW457cGmkELI"
      },
      "execution_count": null,
      "outputs": []
    },
    {
      "cell_type": "code",
      "source": [
        "print(y_train)"
      ],
      "metadata": {
        "id": "Lgd0-MKDd4Za"
      },
      "execution_count": null,
      "outputs": []
    },
    {
      "cell_type": "code",
      "source": [
        "val = np.random.randint(0, len(X), 12)\n",
        "r = 1\n",
        "CATEGORIES = ['zebra', 'buffalo', 'elephant', 'rhino']\n",
        "plt.figure(figsize=(25,20))\n",
        "for value in val:\n",
        "    plt.subplot(3,4,r)\n",
        "    plt.subplots_adjust(hspace = 0.5, wspace = 0.5)\n",
        "    plt.xticks([]) , plt.yticks([])\n",
        "    plt.title(CATEGORIES[y[value]])\n",
        "    r += 1\n",
        "    plt.imshow(X[value])\n",
        "plt.show()"
      ],
      "metadata": {
        "id": "NZuT-NBhd_kt"
      },
      "execution_count": null,
      "outputs": []
    },
    {
      "cell_type": "code",
      "source": [
        "y_train = to_categorical(y_train, 4)\n",
        "y_val = to_categorical(y_val, 4)\n",
        "y_train.shape"
      ],
      "metadata": {
        "id": "Z8z4drrCaCx5"
      },
      "execution_count": null,
      "outputs": []
    },
    {
      "cell_type": "code",
      "source": [
        "#My model\n",
        "model = Sequential()\n",
        "model.add(Conv2D(32, (3,3), strides=(1,1), padding='same', activation='relu', input_shape=(32, 32, 1)))\n",
        "model.add(MaxPooling2D(pool_size=(2, 2)))\n",
        "\n",
        "model.add(Conv2D(32, (3,3), strides=(1,1), padding='same', activation='relu'))\n",
        "model.add(MaxPooling2D(pool_size=(2, 2)))\n",
        "\n",
        "model.add(Dropout(0.5))\n",
        "\n",
        "model.add(Flatten())\n",
        "model.add(Dense(units=20, activation='relu'))\n",
        "\n",
        "model.add(Dropout(0.5))\n",
        "\n",
        "model.add(Dense(units=4, activation='softmax'))\n"
      ],
      "metadata": {
        "id": "NwLR8Cf5xo2w"
      },
      "execution_count": null,
      "outputs": []
    },
    {
      "cell_type": "code",
      "source": [
        "model = Sequential()\n",
        "\n",
        "model.add(Conv2D(128,3,padding='same', input_shape=x_train.shape[1:], activation='relu'))\n",
        "model.add(MaxPooling2D((4,4)))\n",
        "\n",
        "model.add(Conv2D(64,3,padding='same', activation='relu'))\n",
        "model.add(MaxPooling2D((4,4)))\n",
        "\n",
        "model.add(Conv2D(32,3,padding='same', activation='relu'))\n",
        "model.add(MaxPooling2D((4,4)))\n",
        "\n",
        "model.add(Flatten())\n",
        "model.add(BatchNormalization())\n",
        "\n",
        "model.add(Dense(128, activation='relu'))\n",
        "model.add(Dense(64, activation='relu'))\n",
        "\n",
        "model.add(Dropout(0.5))\n",
        "\n",
        "model.add(Dense(32, activation='relu'))\n",
        "model.add(Dropout(0.5))\n",
        "\n",
        "model.add(Dense(4))\n",
        "\n",
        "model.add(Dense(4, activation='softmax'))"
      ],
      "metadata": {
        "id": "QUvxLQHJxHGB"
      },
      "execution_count": 191,
      "outputs": []
    },
    {
      "cell_type": "code",
      "source": [
        "model.compile(loss='categorical_crossentropy', optimizer='adam', metrics=['accuracy'])"
      ],
      "metadata": {
        "id": "TmZhev3HdlC9"
      },
      "execution_count": null,
      "outputs": []
    },
    {
      "cell_type": "code",
      "source": [
        "model.summary()"
      ],
      "metadata": {
        "id": "juYFsDsJ-20K"
      },
      "execution_count": null,
      "outputs": []
    },
    {
      "cell_type": "code",
      "source": [
        "from keras.preprocessing.image import ImageDataGenerator\n",
        "datagen = ImageDataGenerator(\n",
        "    rotation_range = 10,\n",
        "    zoom_range = 0.1,\n",
        "    width_shift_range = 0.1,\n",
        "    height_shift_range = 0.1\n",
        ")\n",
        "\n",
        "datagen.fit(x_train)"
      ],
      "metadata": {
        "id": "3nngshZy2XzG"
      },
      "execution_count": null,
      "outputs": []
    },
    {
      "cell_type": "code",
      "source": [
        "history = model.fit(datagen.flow(x_train,y_train,batch_size=32), validation_data=(x_val, y_val), epochs = 300)"
      ],
      "metadata": {
        "id": "zy9GS6UBz636"
      },
      "execution_count": null,
      "outputs": []
    },
    {
      "cell_type": "code",
      "source": [
        "model.save('content/model.h5')"
      ],
      "metadata": {
        "id": "DlQdgNGSaXyE"
      },
      "execution_count": 197,
      "outputs": []
    },
    {
      "cell_type": "code",
      "source": [
        "y_pred = model.predict(x_test)"
      ],
      "metadata": {
        "id": "efjpQIgHyZNm"
      },
      "execution_count": 198,
      "outputs": []
    },
    {
      "cell_type": "code",
      "source": [
        "y_pred = np.argmax(y_pred, axis=1)"
      ],
      "metadata": {
        "id": "W_Q4ReRMyhhz"
      },
      "execution_count": 199,
      "outputs": []
    },
    {
      "cell_type": "code",
      "source": [
        "y_test.shape"
      ],
      "metadata": {
        "colab": {
          "base_uri": "https://localhost:8080/"
        },
        "id": "0hRifMlX7dbj",
        "outputId": "1104b712-c528-49fe-bbb6-712096587d0c"
      },
      "execution_count": 200,
      "outputs": [
        {
          "output_type": "execute_result",
          "data": {
            "text/plain": [
              "(226,)"
            ]
          },
          "metadata": {},
          "execution_count": 200
        }
      ]
    },
    {
      "cell_type": "code",
      "source": [
        "y_pred.shape"
      ],
      "metadata": {
        "colab": {
          "base_uri": "https://localhost:8080/"
        },
        "id": "26K0yrCN3SW3",
        "outputId": "b1c08ed3-9a4d-4108-bc6d-320a657432b5"
      },
      "execution_count": 201,
      "outputs": [
        {
          "output_type": "execute_result",
          "data": {
            "text/plain": [
              "(226,)"
            ]
          },
          "metadata": {},
          "execution_count": 201
        }
      ]
    },
    {
      "cell_type": "code",
      "source": [
        "from sklearn.metrics import accuracy_score\n",
        "print(accuracy_score(y_test, y_pred))"
      ],
      "metadata": {
        "colab": {
          "base_uri": "https://localhost:8080/"
        },
        "id": "CCIGw8W1ybp1",
        "outputId": "a53ee823-38ad-4668-bff6-0035845519b6"
      },
      "execution_count": 202,
      "outputs": [
        {
          "output_type": "stream",
          "name": "stdout",
          "text": [
            "0.6504424778761062\n"
          ]
        }
      ]
    },
    {
      "cell_type": "code",
      "source": [
        "plt.plot(history.history['accuracy'])\n",
        "plt.plot(history.history['val_accuracy'])\n",
        "plt.legend(['Acc', 'Val Acc'])"
      ],
      "metadata": {
        "colab": {
          "base_uri": "https://localhost:8080/",
          "height": 285
        },
        "id": "Nuoy2MnqaihP",
        "outputId": "394dfe34-1557-4f35-ac96-e64de66828bb"
      },
      "execution_count": 203,
      "outputs": [
        {
          "output_type": "execute_result",
          "data": {
            "text/plain": [
              "<matplotlib.legend.Legend at 0x7f6ded38cd90>"
            ]
          },
          "metadata": {},
          "execution_count": 203
        },
        {
          "output_type": "display_data",
          "data": {
            "text/plain": [
              "<Figure size 432x288 with 1 Axes>"
            ],
            "image/png": "[encoded data removed]"
          },
          "metadata": {
            "needs_background": "light"
          }
        }
      ]
    },
    {
      "cell_type": "code",
      "source": [
        "plt.plot(history.history['loss'])\n",
        "plt.plot(history.history['val_loss'])\n",
        "plt.legend(['Loss', 'Val Loss'])"
      ],
      "metadata": {
        "colab": {
          "base_uri": "https://localhost:8080/",
          "height": 282
        },
        "id": "UhEFvx74lf3S",
        "outputId": "df7223dd-22d6-4b28-8a5a-7e98611fd5b5"
      },
      "execution_count": 204,
      "outputs": [
        {
          "output_type": "execute_result",
          "data": {
            "text/plain": [
              "<matplotlib.legend.Legend at 0x7f6ded46f490>"
            ]
          },
          "metadata": {},
          "execution_count": 204
        },
        {
          "output_type": "display_data",
          "data": {
            "text/plain": [
              "<Figure size 432x288 with 1 Axes>"
            ],
            "image/png": "[encoded data removed]"
          },
          "metadata": {
            "needs_background": "light"
          }
        }
      ]
    }
  ]
}